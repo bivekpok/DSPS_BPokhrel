{
 "cells": [
  {
   "cell_type": "markdown",
   "metadata": {
    "colab_type": "text",
    "id": "view-in-github"
   },
   "source": [
    "<a href=\"https://colab.research.google.com/github/bivekpok/DSPS_BPokhrel/blob/main/HW4/HW4.ipynb\" target=\"_parent\"><img src=\"https://colab.research.google.com/assets/colab-badge.svg\" alt=\"Open In Colab\"/></a>"
   ]
  },
  {
   "cell_type": "markdown",
   "metadata": {
    "id": "rxa6Xa3jOdCI",
    "run_control": {
     "frozen": false,
     "read_only": false
    }
   },
   "source": [
    "prepared by federica b bianco @fedhere\n",
    "for UDel DSPS PHYS 461/661\n",
    "\n",
    "# testing the \"significance\" of Dark Matter"
   ]
  },
  {
   "cell_type": "code",
   "execution_count": 1,
   "metadata": {
    "ExecuteTime": {
     "end_time": "2019-09-16T17:54:57.244596Z",
     "start_time": "2019-09-16T17:54:57.231090Z"
    },
    "id": "Ya2RaOGbOdCJ",
    "run_control": {
     "frozen": false,
     "read_only": false
    }
   },
   "outputs": [],
   "source": [
    "...\n",
    "\n",
    "#package I will use for constants and units conversion\n",
    "import astropy\n",
    "from astropy.constants import G\n",
    "\n",
    "#package used to display latex formuale\n",
    "from IPython.display import Latex\n",
    "import pandas as pd\n",
    "import numpy as np\n",
    "import scipy\n",
    "\n",
    "\n",
    "import matplotlib.pyplot as plt\n",
    "from matplotlib.transforms import Affine2D\n",
    "from astropy import units as u\n"
   ]
  },
  {
   "cell_type": "markdown",
   "metadata": {
    "id": "4qp8A2TG1Gwb"
   },
   "source": [
    "In 1970 Vera Rubin published a seminal paper: she measured the rotational speed of HII regions in several galaxies and how it changed as a function of distance to the center of the galaxy. If we believe Newtonian gravity (or GR) we expect that _once all of the mass is included_, i.e. at a radius distance from the center of the galaxy larger than the radius of the galaxy itself, the rotational speed will be proportional to $v\\propto\\frac{1}/{r}$"
   ]
  },
  {
   "cell_type": "markdown",
   "metadata": {
    "id": "j-BDrNseOdCR",
    "run_control": {
     "frozen": false,
     "read_only": false
    }
   },
   "source": [
    "## Propagation of  uncertainties rules\n",
    "\n",
    "below are the basic rules for propagation of uncertainties - use [this as reference](https://github.com/fedhere/DSPS/blob/master/resources/Managing%20Errors%20and%20Uncertainty.pdf)"
   ]
  },
  {
   "cell_type": "markdown",
   "metadata": {
    "id": "4LnLCwYpPYSv"
   },
   "source": []
  },
  {
   "cell_type": "markdown",
   "metadata": {
    "id": "iCrFipBzOzqp"
   },
   "source": [
    "\n",
    "\n",
    "\n",
    "$$\n",
    "\\begin{eqnarray}\n",
    "z = x  \\pm y  ~| & ~  &dz = \\sqrt{dx^2 + dy^2}\n",
    "\\\\\n",
    "z = x * y  ~| & ~& dz = |xy|  \\sqrt{\\left(\\frac{dx}{x}\\right)^2 +\n",
    "                                \\left(\\frac{dy}{y}\\right)^2} \\\\\n",
    "z = x / y  ~| & ~& dz = \\left|\\frac{x}{y}\\right| \\sqrt{\\left(\\frac{dx}{x}\\right)^2 +\n",
    "                                                   \\left(\\frac{dy}{y}\\right)^2} \\\\\n",
    "z = x^n ~| & ~& dz = |n| ~ x^{n-1}  dx \\\\\n",
    "z = \\mathrm{c}x ~| & ~& dz = |\\mathrm{c}| ~dx \\\\\n",
    "z = f(x, y) ~| & ~& dz = \\sqrt{\\left(\\frac{\\partial f}{\\partial x}\\right)^2 dx^2 +\\left(\\frac{\\partial f}{\\partial y}\\right)^2 dy^2} \\\\\n",
    "\\end{eqnarray}\n",
    "$$\n"
   ]
  },
  {
   "cell_type": "markdown",
   "metadata": {
    "id": "WcF0zlWCOdCX",
    "run_control": {
     "frozen": false,
     "read_only": false
    }
   },
   "source": [
    "# let's assume a Newtonian framework:\n",
    "the velocity of a body in orbit depends only on the gravitational field of the mass that attracts it, and we can assume that mass is concentrated in the center of mass of (the center for simplicity) the system\n",
    "\n",
    "with G the gravitational constant, $r$ the radius, and $m(r)$ the mass contained within that radius we have the orbital velocity $v$:\n"
   ]
  },
  {
   "cell_type": "markdown",
   "metadata": {
    "id": "ZON0DKl5Qm2S"
   },
   "source": [
    "\n",
    "$v^2 = \\frac{G \\cdot m(r)}{r}$\n"
   ]
  },
  {
   "cell_type": "markdown",
   "metadata": {
    "id": "lVfy9lJ21xMT"
   },
   "source": [
    "Derive this $v\\propto\\frac{1}{r}$ from Newron's law $F~=~\\frac{GMm}{r^2}$. Write each formula and describe each step. You can use latex (you really just need to know ```\\frac{}``` and ```^```) and this reference\n",
    "https://www.physicsclassroom.com/calcpad/circgrav"
   ]
  },
  {
   "cell_type": "markdown",
   "metadata": {
    "id": "x9ffzwnBPK0z"
   },
   "source": [
    "Newtons Gravitational force  Fg =  $\\frac{GMm}{r^2}$ <br>\n",
    "Centripetal force Fc = $\\frac{mv^2}{r}$ <br>\n",
    "\n",
    "* Fg is the gravitational force between two objects.\n",
    "* G is the gravitational constant.\n",
    "* M is the mass of the central body (e.g., a planet).\n",
    "* m is the mass of the orbiting body (e.g., a satellite).\n",
    "* r is the distance between the centers of the two objects.\n",
    "* Fc is the centripetal force.\n",
    "* v is the orbital velocity.\n",
    "\n",
    "Equating both forces to get the orbital velocity: <br>\n",
    "$\\frac{GMm}{r^2}$ =$\\frac{mv^2}{r}$ <br>\n",
    "m and r cancel and we are left with: <br>\n",
    "$\\frac{GM}{r}$ =${v^2}$ <br>\n",
    "this implies : <br>\n",
    " ${v^2}$ = $\\frac{Constant}{r}$ <br>\n",
    " ${v}$ ∝ $\\frac{1}{√r}$ <br>\n",
    "This implies that at larger distances the velocity varies at 1/sqrt (r).\n"
   ]
  },
  {
   "cell_type": "markdown",
   "metadata": {
    "id": "KQAEJtWuOdCb",
    "run_control": {
     "frozen": false,
     "read_only": false
    }
   },
   "source": [
    "## M31 rotational curve"
   ]
  },
  {
   "cell_type": "markdown",
   "metadata": {
    "ExecuteTime": {
     "end_time": "2019-08-02T01:34:15.029084Z",
     "start_time": "2019-08-02T01:34:15.026604Z"
    },
    "id": "BTaXzFYeOdCc",
    "run_control": {
     "frozen": false,
     "read_only": false
    }
   },
   "source": [
    "### data ingestion\n",
    "( I store the original paper as a link on another computer now I have to find it again :-( - sorry I will updat the reference )\n",
    "\n",
    "Get the data from the github repository https://github.com/fedhere/DSPS/tree/master/HW4 : there are 2 files: mw.csv and m31.csv. Start with M31, the Andromeda galaxy, Vera Rubin's original target."
   ]
  },
  {
   "cell_type": "markdown",
   "metadata": {
    "id": "_iFrkUYEV1SS"
   },
   "source": [
    "Note that the data contains 2 types of uncertainties: one significantly smaller than the other. The ```dv``` uncertainty is the propagation of the uncertainty in the location of the HII line. The uncertainty called ```err``` if the full error budget:  including _all_ sources of uncertainty and not just the uncertainty in measuring the location of the line. Retain both, you will test your hypothesis with each one to see if it matters which uncertainty you choose"
   ]
  },
  {
   "cell_type": "code",
   "execution_count": 2,
   "metadata": {
    "ExecuteTime": {
     "end_time": "2019-08-02T01:34:33.446619Z",
     "start_time": "2019-08-02T01:34:33.435793Z"
    },
    "id": "eZ7nr5DROdCd",
    "run_control": {
     "frozen": false,
     "read_only": false
    }
   },
   "outputs": [],
   "source": [
    "m31 = pd.read_csv('https://raw.githubusercontent.com/fedhere/DSPS_FBianco/main/HW4/m31.csv', skipinitialspace=True, skiprows = [0])"
   ]
  },
  {
   "cell_type": "code",
   "execution_count": 3,
   "metadata": {
    "colab": {
     "base_uri": "https://localhost:8080/",
     "height": 206
    },
    "id": "luL5UrsNQ1M1",
    "outputId": "2de90399-d01c-47f7-a242-5b81921c4157"
   },
   "outputs": [
    {
     "data": {
      "text/html": [
       "\n",
       "  <div id=\"df-37479cd1-f610-4856-84d3-53c5b534108c\" class=\"colab-df-container\">\n",
       "    <div>\n",
       "<style scoped>\n",
       "    .dataframe tbody tr th:only-of-type {\n",
       "        vertical-align: middle;\n",
       "    }\n",
       "\n",
       "    .dataframe tbody tr th {\n",
       "        vertical-align: top;\n",
       "    }\n",
       "\n",
       "    .dataframe thead th {\n",
       "        text-align: right;\n",
       "    }\n",
       "</style>\n",
       "<table border=\"1\" class=\"dataframe\">\n",
       "  <thead>\n",
       "    <tr style=\"text-align: right;\">\n",
       "      <th></th>\n",
       "      <th>#R(kpc</th>\n",
       "      <th>V(km/s)</th>\n",
       "      <th>St.dev.</th>\n",
       "      <th>St.error</th>\n",
       "    </tr>\n",
       "  </thead>\n",
       "  <tbody>\n",
       "    <tr>\n",
       "      <th>0</th>\n",
       "      <td>0.100</td>\n",
       "      <td>183.939</td>\n",
       "      <td>0.000</td>\n",
       "      <td>0.000</td>\n",
       "    </tr>\n",
       "    <tr>\n",
       "      <th>1</th>\n",
       "      <td>0.120</td>\n",
       "      <td>190.710</td>\n",
       "      <td>10.265</td>\n",
       "      <td>12.191</td>\n",
       "    </tr>\n",
       "    <tr>\n",
       "      <th>2</th>\n",
       "      <td>0.144</td>\n",
       "      <td>204.141</td>\n",
       "      <td>22.634</td>\n",
       "      <td>21.808</td>\n",
       "    </tr>\n",
       "    <tr>\n",
       "      <th>3</th>\n",
       "      <td>0.173</td>\n",
       "      <td>207.601</td>\n",
       "      <td>4.573</td>\n",
       "      <td>4.200</td>\n",
       "    </tr>\n",
       "    <tr>\n",
       "      <th>4</th>\n",
       "      <td>0.207</td>\n",
       "      <td>210.188</td>\n",
       "      <td>3.943</td>\n",
       "      <td>3.258</td>\n",
       "    </tr>\n",
       "  </tbody>\n",
       "</table>\n",
       "</div>\n",
       "    <div class=\"colab-df-buttons\">\n",
       "\n",
       "  <div class=\"colab-df-container\">\n",
       "    <button class=\"colab-df-convert\" onclick=\"convertToInteractive('df-37479cd1-f610-4856-84d3-53c5b534108c')\"\n",
       "            title=\"Convert this dataframe to an interactive table.\"\n",
       "            style=\"display:none;\">\n",
       "\n",
       "  <svg xmlns=\"http://www.w3.org/2000/svg\" height=\"24px\" viewBox=\"0 -960 960 960\">\n",
       "    <path d=\"M120-120v-720h720v720H120Zm60-500h600v-160H180v160Zm220 220h160v-160H400v160Zm0 220h160v-160H400v160ZM180-400h160v-160H180v160Zm440 0h160v-160H620v160ZM180-180h160v-160H180v160Zm440 0h160v-160H620v160Z\"/>\n",
       "  </svg>\n",
       "    </button>\n",
       "\n",
       "  <style>\n",
       "    .colab-df-container {\n",
       "      display:flex;\n",
       "      gap: 12px;\n",
       "    }\n",
       "\n",
       "    .colab-df-convert {\n",
       "      background-color: #E8F0FE;\n",
       "      border: none;\n",
       "      border-radius: 50%;\n",
       "      cursor: pointer;\n",
       "      display: none;\n",
       "      fill: #1967D2;\n",
       "      height: 32px;\n",
       "      padding: 0 0 0 0;\n",
       "      width: 32px;\n",
       "    }\n",
       "\n",
       "    .colab-df-convert:hover {\n",
       "      background-color: #E2EBFA;\n",
       "      box-shadow: 0px 1px 2px rgba(60, 64, 67, 0.3), 0px 1px 3px 1px rgba(60, 64, 67, 0.15);\n",
       "      fill: #174EA6;\n",
       "    }\n",
       "\n",
       "    .colab-df-buttons div {\n",
       "      margin-bottom: 4px;\n",
       "    }\n",
       "\n",
       "    [theme=dark] .colab-df-convert {\n",
       "      background-color: #3B4455;\n",
       "      fill: #D2E3FC;\n",
       "    }\n",
       "\n",
       "    [theme=dark] .colab-df-convert:hover {\n",
       "      background-color: #434B5C;\n",
       "      box-shadow: 0px 1px 3px 1px rgba(0, 0, 0, 0.15);\n",
       "      filter: drop-shadow(0px 1px 2px rgba(0, 0, 0, 0.3));\n",
       "      fill: #FFFFFF;\n",
       "    }\n",
       "  </style>\n",
       "\n",
       "    <script>\n",
       "      const buttonEl =\n",
       "        document.querySelector('#df-37479cd1-f610-4856-84d3-53c5b534108c button.colab-df-convert');\n",
       "      buttonEl.style.display =\n",
       "        google.colab.kernel.accessAllowed ? 'block' : 'none';\n",
       "\n",
       "      async function convertToInteractive(key) {\n",
       "        const element = document.querySelector('#df-37479cd1-f610-4856-84d3-53c5b534108c');\n",
       "        const dataTable =\n",
       "          await google.colab.kernel.invokeFunction('convertToInteractive',\n",
       "                                                    [key], {});\n",
       "        if (!dataTable) return;\n",
       "\n",
       "        const docLinkHtml = 'Like what you see? Visit the ' +\n",
       "          '<a target=\"_blank\" href=https://colab.research.google.com/notebooks/data_table.ipynb>data table notebook</a>'\n",
       "          + ' to learn more about interactive tables.';\n",
       "        element.innerHTML = '';\n",
       "        dataTable['output_type'] = 'display_data';\n",
       "        await google.colab.output.renderOutput(dataTable, element);\n",
       "        const docLink = document.createElement('div');\n",
       "        docLink.innerHTML = docLinkHtml;\n",
       "        element.appendChild(docLink);\n",
       "      }\n",
       "    </script>\n",
       "  </div>\n",
       "\n",
       "\n",
       "<div id=\"df-5474f616-8528-4ba3-a066-dfaf1416dcef\">\n",
       "  <button class=\"colab-df-quickchart\" onclick=\"quickchart('df-5474f616-8528-4ba3-a066-dfaf1416dcef')\"\n",
       "            title=\"Suggest charts.\"\n",
       "            style=\"display:none;\">\n",
       "\n",
       "<svg xmlns=\"http://www.w3.org/2000/svg\" height=\"24px\"viewBox=\"0 0 24 24\"\n",
       "     width=\"24px\">\n",
       "    <g>\n",
       "        <path d=\"M19 3H5c-1.1 0-2 .9-2 2v14c0 1.1.9 2 2 2h14c1.1 0 2-.9 2-2V5c0-1.1-.9-2-2-2zM9 17H7v-7h2v7zm4 0h-2V7h2v10zm4 0h-2v-4h2v4z\"/>\n",
       "    </g>\n",
       "</svg>\n",
       "  </button>\n",
       "\n",
       "<style>\n",
       "  .colab-df-quickchart {\n",
       "      --bg-color: #E8F0FE;\n",
       "      --fill-color: #1967D2;\n",
       "      --hover-bg-color: #E2EBFA;\n",
       "      --hover-fill-color: #174EA6;\n",
       "      --disabled-fill-color: #AAA;\n",
       "      --disabled-bg-color: #DDD;\n",
       "  }\n",
       "\n",
       "  [theme=dark] .colab-df-quickchart {\n",
       "      --bg-color: #3B4455;\n",
       "      --fill-color: #D2E3FC;\n",
       "      --hover-bg-color: #434B5C;\n",
       "      --hover-fill-color: #FFFFFF;\n",
       "      --disabled-bg-color: #3B4455;\n",
       "      --disabled-fill-color: #666;\n",
       "  }\n",
       "\n",
       "  .colab-df-quickchart {\n",
       "    background-color: var(--bg-color);\n",
       "    border: none;\n",
       "    border-radius: 50%;\n",
       "    cursor: pointer;\n",
       "    display: none;\n",
       "    fill: var(--fill-color);\n",
       "    height: 32px;\n",
       "    padding: 0;\n",
       "    width: 32px;\n",
       "  }\n",
       "\n",
       "  .colab-df-quickchart:hover {\n",
       "    background-color: var(--hover-bg-color);\n",
       "    box-shadow: 0 1px 2px rgba(60, 64, 67, 0.3), 0 1px 3px 1px rgba(60, 64, 67, 0.15);\n",
       "    fill: var(--button-hover-fill-color);\n",
       "  }\n",
       "\n",
       "  .colab-df-quickchart-complete:disabled,\n",
       "  .colab-df-quickchart-complete:disabled:hover {\n",
       "    background-color: var(--disabled-bg-color);\n",
       "    fill: var(--disabled-fill-color);\n",
       "    box-shadow: none;\n",
       "  }\n",
       "\n",
       "  .colab-df-spinner {\n",
       "    border: 2px solid var(--fill-color);\n",
       "    border-color: transparent;\n",
       "    border-bottom-color: var(--fill-color);\n",
       "    animation:\n",
       "      spin 1s steps(1) infinite;\n",
       "  }\n",
       "\n",
       "  @keyframes spin {\n",
       "    0% {\n",
       "      border-color: transparent;\n",
       "      border-bottom-color: var(--fill-color);\n",
       "      border-left-color: var(--fill-color);\n",
       "    }\n",
       "    20% {\n",
       "      border-color: transparent;\n",
       "      border-left-color: var(--fill-color);\n",
       "      border-top-color: var(--fill-color);\n",
       "    }\n",
       "    30% {\n",
       "      border-color: transparent;\n",
       "      border-left-color: var(--fill-color);\n",
       "      border-top-color: var(--fill-color);\n",
       "      border-right-color: var(--fill-color);\n",
       "    }\n",
       "    40% {\n",
       "      border-color: transparent;\n",
       "      border-right-color: var(--fill-color);\n",
       "      border-top-color: var(--fill-color);\n",
       "    }\n",
       "    60% {\n",
       "      border-color: transparent;\n",
       "      border-right-color: var(--fill-color);\n",
       "    }\n",
       "    80% {\n",
       "      border-color: transparent;\n",
       "      border-right-color: var(--fill-color);\n",
       "      border-bottom-color: var(--fill-color);\n",
       "    }\n",
       "    90% {\n",
       "      border-color: transparent;\n",
       "      border-bottom-color: var(--fill-color);\n",
       "    }\n",
       "  }\n",
       "</style>\n",
       "\n",
       "  <script>\n",
       "    async function quickchart(key) {\n",
       "      const quickchartButtonEl =\n",
       "        document.querySelector('#' + key + ' button');\n",
       "      quickchartButtonEl.disabled = true;  // To prevent multiple clicks.\n",
       "      quickchartButtonEl.classList.add('colab-df-spinner');\n",
       "      try {\n",
       "        const charts = await google.colab.kernel.invokeFunction(\n",
       "            'suggestCharts', [key], {});\n",
       "      } catch (error) {\n",
       "        console.error('Error during call to suggestCharts:', error);\n",
       "      }\n",
       "      quickchartButtonEl.classList.remove('colab-df-spinner');\n",
       "      quickchartButtonEl.classList.add('colab-df-quickchart-complete');\n",
       "    }\n",
       "    (() => {\n",
       "      let quickchartButtonEl =\n",
       "        document.querySelector('#df-5474f616-8528-4ba3-a066-dfaf1416dcef button');\n",
       "      quickchartButtonEl.style.display =\n",
       "        google.colab.kernel.accessAllowed ? 'block' : 'none';\n",
       "    })();\n",
       "  </script>\n",
       "</div>\n",
       "    </div>\n",
       "  </div>\n"
      ],
      "text/plain": [
       "   #R(kpc  V(km/s)  St.dev.  St.error\n",
       "0   0.100  183.939    0.000     0.000\n",
       "1   0.120  190.710   10.265    12.191\n",
       "2   0.144  204.141   22.634    21.808\n",
       "3   0.173  207.601    4.573     4.200\n",
       "4   0.207  210.188    3.943     3.258"
      ]
     },
     "execution_count": 3,
     "metadata": {},
     "output_type": "execute_result"
    }
   ],
   "source": [
    "m31.head()"
   ]
  },
  {
   "cell_type": "code",
   "execution_count": 4,
   "metadata": {
    "colab": {
     "base_uri": "https://localhost:8080/",
     "height": 206
    },
    "id": "dnvuuS4nuy2q",
    "outputId": "b54f51d4-7a2a-4930-dc4e-6d34bf5d1139"
   },
   "outputs": [
    {
     "data": {
      "text/html": [
       "\n",
       "  <div id=\"df-c634b900-00af-4545-8342-e05561c4b004\" class=\"colab-df-container\">\n",
       "    <div>\n",
       "<style scoped>\n",
       "    .dataframe tbody tr th:only-of-type {\n",
       "        vertical-align: middle;\n",
       "    }\n",
       "\n",
       "    .dataframe tbody tr th {\n",
       "        vertical-align: top;\n",
       "    }\n",
       "\n",
       "    .dataframe thead th {\n",
       "        text-align: right;\n",
       "    }\n",
       "</style>\n",
       "<table border=\"1\" class=\"dataframe\">\n",
       "  <thead>\n",
       "    <tr style=\"text-align: right;\">\n",
       "      <th></th>\n",
       "      <th>R(kpc)</th>\n",
       "      <th>V(km/s)</th>\n",
       "      <th>St.dev.</th>\n",
       "      <th>St.error</th>\n",
       "    </tr>\n",
       "  </thead>\n",
       "  <tbody>\n",
       "    <tr>\n",
       "      <th>0</th>\n",
       "      <td>0.010</td>\n",
       "      <td>119.061</td>\n",
       "      <td>41.832</td>\n",
       "      <td>32.714</td>\n",
       "    </tr>\n",
       "    <tr>\n",
       "      <th>1</th>\n",
       "      <td>0.012</td>\n",
       "      <td>115.268</td>\n",
       "      <td>35.199</td>\n",
       "      <td>17.100</td>\n",
       "    </tr>\n",
       "    <tr>\n",
       "      <th>2</th>\n",
       "      <td>0.014</td>\n",
       "      <td>117.392</td>\n",
       "      <td>35.152</td>\n",
       "      <td>14.429</td>\n",
       "    </tr>\n",
       "    <tr>\n",
       "      <th>3</th>\n",
       "      <td>0.017</td>\n",
       "      <td>118.475</td>\n",
       "      <td>35.252</td>\n",
       "      <td>14.870</td>\n",
       "    </tr>\n",
       "    <tr>\n",
       "      <th>4</th>\n",
       "      <td>0.021</td>\n",
       "      <td>110.386</td>\n",
       "      <td>33.817</td>\n",
       "      <td>14.427</td>\n",
       "    </tr>\n",
       "  </tbody>\n",
       "</table>\n",
       "</div>\n",
       "    <div class=\"colab-df-buttons\">\n",
       "\n",
       "  <div class=\"colab-df-container\">\n",
       "    <button class=\"colab-df-convert\" onclick=\"convertToInteractive('df-c634b900-00af-4545-8342-e05561c4b004')\"\n",
       "            title=\"Convert this dataframe to an interactive table.\"\n",
       "            style=\"display:none;\">\n",
       "\n",
       "  <svg xmlns=\"http://www.w3.org/2000/svg\" height=\"24px\" viewBox=\"0 -960 960 960\">\n",
       "    <path d=\"M120-120v-720h720v720H120Zm60-500h600v-160H180v160Zm220 220h160v-160H400v160Zm0 220h160v-160H400v160ZM180-400h160v-160H180v160Zm440 0h160v-160H620v160ZM180-180h160v-160H180v160Zm440 0h160v-160H620v160Z\"/>\n",
       "  </svg>\n",
       "    </button>\n",
       "\n",
       "  <style>\n",
       "    .colab-df-container {\n",
       "      display:flex;\n",
       "      gap: 12px;\n",
       "    }\n",
       "\n",
       "    .colab-df-convert {\n",
       "      background-color: #E8F0FE;\n",
       "      border: none;\n",
       "      border-radius: 50%;\n",
       "      cursor: pointer;\n",
       "      display: none;\n",
       "      fill: #1967D2;\n",
       "      height: 32px;\n",
       "      padding: 0 0 0 0;\n",
       "      width: 32px;\n",
       "    }\n",
       "\n",
       "    .colab-df-convert:hover {\n",
       "      background-color: #E2EBFA;\n",
       "      box-shadow: 0px 1px 2px rgba(60, 64, 67, 0.3), 0px 1px 3px 1px rgba(60, 64, 67, 0.15);\n",
       "      fill: #174EA6;\n",
       "    }\n",
       "\n",
       "    .colab-df-buttons div {\n",
       "      margin-bottom: 4px;\n",
       "    }\n",
       "\n",
       "    [theme=dark] .colab-df-convert {\n",
       "      background-color: #3B4455;\n",
       "      fill: #D2E3FC;\n",
       "    }\n",
       "\n",
       "    [theme=dark] .colab-df-convert:hover {\n",
       "      background-color: #434B5C;\n",
       "      box-shadow: 0px 1px 3px 1px rgba(0, 0, 0, 0.15);\n",
       "      filter: drop-shadow(0px 1px 2px rgba(0, 0, 0, 0.3));\n",
       "      fill: #FFFFFF;\n",
       "    }\n",
       "  </style>\n",
       "\n",
       "    <script>\n",
       "      const buttonEl =\n",
       "        document.querySelector('#df-c634b900-00af-4545-8342-e05561c4b004 button.colab-df-convert');\n",
       "      buttonEl.style.display =\n",
       "        google.colab.kernel.accessAllowed ? 'block' : 'none';\n",
       "\n",
       "      async function convertToInteractive(key) {\n",
       "        const element = document.querySelector('#df-c634b900-00af-4545-8342-e05561c4b004');\n",
       "        const dataTable =\n",
       "          await google.colab.kernel.invokeFunction('convertToInteractive',\n",
       "                                                    [key], {});\n",
       "        if (!dataTable) return;\n",
       "\n",
       "        const docLinkHtml = 'Like what you see? Visit the ' +\n",
       "          '<a target=\"_blank\" href=https://colab.research.google.com/notebooks/data_table.ipynb>data table notebook</a>'\n",
       "          + ' to learn more about interactive tables.';\n",
       "        element.innerHTML = '';\n",
       "        dataTable['output_type'] = 'display_data';\n",
       "        await google.colab.output.renderOutput(dataTable, element);\n",
       "        const docLink = document.createElement('div');\n",
       "        docLink.innerHTML = docLinkHtml;\n",
       "        element.appendChild(docLink);\n",
       "      }\n",
       "    </script>\n",
       "  </div>\n",
       "\n",
       "\n",
       "<div id=\"df-2f494861-780b-4a9e-b1cd-f4d56908c8e2\">\n",
       "  <button class=\"colab-df-quickchart\" onclick=\"quickchart('df-2f494861-780b-4a9e-b1cd-f4d56908c8e2')\"\n",
       "            title=\"Suggest charts.\"\n",
       "            style=\"display:none;\">\n",
       "\n",
       "<svg xmlns=\"http://www.w3.org/2000/svg\" height=\"24px\"viewBox=\"0 0 24 24\"\n",
       "     width=\"24px\">\n",
       "    <g>\n",
       "        <path d=\"M19 3H5c-1.1 0-2 .9-2 2v14c0 1.1.9 2 2 2h14c1.1 0 2-.9 2-2V5c0-1.1-.9-2-2-2zM9 17H7v-7h2v7zm4 0h-2V7h2v10zm4 0h-2v-4h2v4z\"/>\n",
       "    </g>\n",
       "</svg>\n",
       "  </button>\n",
       "\n",
       "<style>\n",
       "  .colab-df-quickchart {\n",
       "      --bg-color: #E8F0FE;\n",
       "      --fill-color: #1967D2;\n",
       "      --hover-bg-color: #E2EBFA;\n",
       "      --hover-fill-color: #174EA6;\n",
       "      --disabled-fill-color: #AAA;\n",
       "      --disabled-bg-color: #DDD;\n",
       "  }\n",
       "\n",
       "  [theme=dark] .colab-df-quickchart {\n",
       "      --bg-color: #3B4455;\n",
       "      --fill-color: #D2E3FC;\n",
       "      --hover-bg-color: #434B5C;\n",
       "      --hover-fill-color: #FFFFFF;\n",
       "      --disabled-bg-color: #3B4455;\n",
       "      --disabled-fill-color: #666;\n",
       "  }\n",
       "\n",
       "  .colab-df-quickchart {\n",
       "    background-color: var(--bg-color);\n",
       "    border: none;\n",
       "    border-radius: 50%;\n",
       "    cursor: pointer;\n",
       "    display: none;\n",
       "    fill: var(--fill-color);\n",
       "    height: 32px;\n",
       "    padding: 0;\n",
       "    width: 32px;\n",
       "  }\n",
       "\n",
       "  .colab-df-quickchart:hover {\n",
       "    background-color: var(--hover-bg-color);\n",
       "    box-shadow: 0 1px 2px rgba(60, 64, 67, 0.3), 0 1px 3px 1px rgba(60, 64, 67, 0.15);\n",
       "    fill: var(--button-hover-fill-color);\n",
       "  }\n",
       "\n",
       "  .colab-df-quickchart-complete:disabled,\n",
       "  .colab-df-quickchart-complete:disabled:hover {\n",
       "    background-color: var(--disabled-bg-color);\n",
       "    fill: var(--disabled-fill-color);\n",
       "    box-shadow: none;\n",
       "  }\n",
       "\n",
       "  .colab-df-spinner {\n",
       "    border: 2px solid var(--fill-color);\n",
       "    border-color: transparent;\n",
       "    border-bottom-color: var(--fill-color);\n",
       "    animation:\n",
       "      spin 1s steps(1) infinite;\n",
       "  }\n",
       "\n",
       "  @keyframes spin {\n",
       "    0% {\n",
       "      border-color: transparent;\n",
       "      border-bottom-color: var(--fill-color);\n",
       "      border-left-color: var(--fill-color);\n",
       "    }\n",
       "    20% {\n",
       "      border-color: transparent;\n",
       "      border-left-color: var(--fill-color);\n",
       "      border-top-color: var(--fill-color);\n",
       "    }\n",
       "    30% {\n",
       "      border-color: transparent;\n",
       "      border-left-color: var(--fill-color);\n",
       "      border-top-color: var(--fill-color);\n",
       "      border-right-color: var(--fill-color);\n",
       "    }\n",
       "    40% {\n",
       "      border-color: transparent;\n",
       "      border-right-color: var(--fill-color);\n",
       "      border-top-color: var(--fill-color);\n",
       "    }\n",
       "    60% {\n",
       "      border-color: transparent;\n",
       "      border-right-color: var(--fill-color);\n",
       "    }\n",
       "    80% {\n",
       "      border-color: transparent;\n",
       "      border-right-color: var(--fill-color);\n",
       "      border-bottom-color: var(--fill-color);\n",
       "    }\n",
       "    90% {\n",
       "      border-color: transparent;\n",
       "      border-bottom-color: var(--fill-color);\n",
       "    }\n",
       "  }\n",
       "</style>\n",
       "\n",
       "  <script>\n",
       "    async function quickchart(key) {\n",
       "      const quickchartButtonEl =\n",
       "        document.querySelector('#' + key + ' button');\n",
       "      quickchartButtonEl.disabled = true;  // To prevent multiple clicks.\n",
       "      quickchartButtonEl.classList.add('colab-df-spinner');\n",
       "      try {\n",
       "        const charts = await google.colab.kernel.invokeFunction(\n",
       "            'suggestCharts', [key], {});\n",
       "      } catch (error) {\n",
       "        console.error('Error during call to suggestCharts:', error);\n",
       "      }\n",
       "      quickchartButtonEl.classList.remove('colab-df-spinner');\n",
       "      quickchartButtonEl.classList.add('colab-df-quickchart-complete');\n",
       "    }\n",
       "    (() => {\n",
       "      let quickchartButtonEl =\n",
       "        document.querySelector('#df-2f494861-780b-4a9e-b1cd-f4d56908c8e2 button');\n",
       "      quickchartButtonEl.style.display =\n",
       "        google.colab.kernel.accessAllowed ? 'block' : 'none';\n",
       "    })();\n",
       "  </script>\n",
       "</div>\n",
       "    </div>\n",
       "  </div>\n"
      ],
      "text/plain": [
       "   R(kpc)  V(km/s)  St.dev.  St.error\n",
       "0   0.010  119.061   41.832    32.714\n",
       "1   0.012  115.268   35.199    17.100\n",
       "2   0.014  117.392   35.152    14.429\n",
       "3   0.017  118.475   35.252    14.870\n",
       "4   0.021  110.386   33.817    14.427"
      ]
     },
     "execution_count": 4,
     "metadata": {},
     "output_type": "execute_result"
    }
   ],
   "source": [
    "mw = pd.read_csv('https://raw.githubusercontent.com/fedhere/DSPS_FBianco/360e48bf3b762be5d17d2c2d595a03a23f334451/HW4/mw.csv', skipinitialspace=True, skiprows = [0])\n",
    "mw.head()"
   ]
  },
  {
   "cell_type": "markdown",
   "metadata": {
    "id": "8nZhqbhvP2UC"
   },
   "source": [
    "# exploratory data analysis\n",
    "proceed with at least a few basic exploratory tasks"
   ]
  },
  {
   "cell_type": "code",
   "execution_count": 5,
   "metadata": {
    "ExecuteTime": {
     "end_time": "2019-08-02T01:35:26.395158Z",
     "start_time": "2019-08-02T01:35:26.373338Z"
    },
    "colab": {
     "base_uri": "https://localhost:8080/",
     "height": 300
    },
    "id": "QsNRokb1OdCh",
    "outputId": "e892804a-94a3-4b81-f195-7b8aecb2313b",
    "run_control": {
     "frozen": false,
     "read_only": false
    }
   },
   "outputs": [
    {
     "data": {
      "text/html": [
       "\n",
       "  <div id=\"df-3f82c017-a011-48e6-a4cc-6423744fbf04\" class=\"colab-df-container\">\n",
       "    <div>\n",
       "<style scoped>\n",
       "    .dataframe tbody tr th:only-of-type {\n",
       "        vertical-align: middle;\n",
       "    }\n",
       "\n",
       "    .dataframe tbody tr th {\n",
       "        vertical-align: top;\n",
       "    }\n",
       "\n",
       "    .dataframe thead th {\n",
       "        text-align: right;\n",
       "    }\n",
       "</style>\n",
       "<table border=\"1\" class=\"dataframe\">\n",
       "  <thead>\n",
       "    <tr style=\"text-align: right;\">\n",
       "      <th></th>\n",
       "      <th>#R(kpc</th>\n",
       "      <th>V(km/s)</th>\n",
       "      <th>St.dev.</th>\n",
       "      <th>St.error</th>\n",
       "    </tr>\n",
       "  </thead>\n",
       "  <tbody>\n",
       "    <tr>\n",
       "      <th>count</th>\n",
       "      <td>55.000000</td>\n",
       "      <td>55.000000</td>\n",
       "      <td>55.000000</td>\n",
       "      <td>55.000000</td>\n",
       "    </tr>\n",
       "    <tr>\n",
       "      <th>mean</th>\n",
       "      <td>205.853182</td>\n",
       "      <td>226.079255</td>\n",
       "      <td>55.034818</td>\n",
       "      <td>16.165855</td>\n",
       "    </tr>\n",
       "    <tr>\n",
       "      <th>std</th>\n",
       "      <td>415.523904</td>\n",
       "      <td>42.799892</td>\n",
       "      <td>49.254792</td>\n",
       "      <td>14.876951</td>\n",
       "    </tr>\n",
       "    <tr>\n",
       "      <th>min</th>\n",
       "      <td>0.100000</td>\n",
       "      <td>121.974000</td>\n",
       "      <td>0.000000</td>\n",
       "      <td>0.000000</td>\n",
       "    </tr>\n",
       "    <tr>\n",
       "      <th>25%</th>\n",
       "      <td>1.177000</td>\n",
       "      <td>208.894500</td>\n",
       "      <td>11.945500</td>\n",
       "      <td>3.224000</td>\n",
       "    </tr>\n",
       "    <tr>\n",
       "      <th>50%</th>\n",
       "      <td>13.737000</td>\n",
       "      <td>229.124000</td>\n",
       "      <td>30.697000</td>\n",
       "      <td>12.065000</td>\n",
       "    </tr>\n",
       "    <tr>\n",
       "      <th>75%</th>\n",
       "      <td>161.675000</td>\n",
       "      <td>244.102500</td>\n",
       "      <td>99.980000</td>\n",
       "      <td>23.641000</td>\n",
       "    </tr>\n",
       "    <tr>\n",
       "      <th>max</th>\n",
       "      <td>1887.071000</td>\n",
       "      <td>414.942000</td>\n",
       "      <td>147.835000</td>\n",
       "      <td>54.110000</td>\n",
       "    </tr>\n",
       "  </tbody>\n",
       "</table>\n",
       "</div>\n",
       "    <div class=\"colab-df-buttons\">\n",
       "\n",
       "  <div class=\"colab-df-container\">\n",
       "    <button class=\"colab-df-convert\" onclick=\"convertToInteractive('df-3f82c017-a011-48e6-a4cc-6423744fbf04')\"\n",
       "            title=\"Convert this dataframe to an interactive table.\"\n",
       "            style=\"display:none;\">\n",
       "\n",
       "  <svg xmlns=\"http://www.w3.org/2000/svg\" height=\"24px\" viewBox=\"0 -960 960 960\">\n",
       "    <path d=\"M120-120v-720h720v720H120Zm60-500h600v-160H180v160Zm220 220h160v-160H400v160Zm0 220h160v-160H400v160ZM180-400h160v-160H180v160Zm440 0h160v-160H620v160ZM180-180h160v-160H180v160Zm440 0h160v-160H620v160Z\"/>\n",
       "  </svg>\n",
       "    </button>\n",
       "\n",
       "  <style>\n",
       "    .colab-df-container {\n",
       "      display:flex;\n",
       "      gap: 12px;\n",
       "    }\n",
       "\n",
       "    .colab-df-convert {\n",
       "      background-color: #E8F0FE;\n",
       "      border: none;\n",
       "      border-radius: 50%;\n",
       "      cursor: pointer;\n",
       "      display: none;\n",
       "      fill: #1967D2;\n",
       "      height: 32px;\n",
       "      padding: 0 0 0 0;\n",
       "      width: 32px;\n",
       "    }\n",
       "\n",
       "    .colab-df-convert:hover {\n",
       "      background-color: #E2EBFA;\n",
       "      box-shadow: 0px 1px 2px rgba(60, 64, 67, 0.3), 0px 1px 3px 1px rgba(60, 64, 67, 0.15);\n",
       "      fill: #174EA6;\n",
       "    }\n",
       "\n",
       "    .colab-df-buttons div {\n",
       "      margin-bottom: 4px;\n",
       "    }\n",
       "\n",
       "    [theme=dark] .colab-df-convert {\n",
       "      background-color: #3B4455;\n",
       "      fill: #D2E3FC;\n",
       "    }\n",
       "\n",
       "    [theme=dark] .colab-df-convert:hover {\n",
       "      background-color: #434B5C;\n",
       "      box-shadow: 0px 1px 3px 1px rgba(0, 0, 0, 0.15);\n",
       "      filter: drop-shadow(0px 1px 2px rgba(0, 0, 0, 0.3));\n",
       "      fill: #FFFFFF;\n",
       "    }\n",
       "  </style>\n",
       "\n",
       "    <script>\n",
       "      const buttonEl =\n",
       "        document.querySelector('#df-3f82c017-a011-48e6-a4cc-6423744fbf04 button.colab-df-convert');\n",
       "      buttonEl.style.display =\n",
       "        google.colab.kernel.accessAllowed ? 'block' : 'none';\n",
       "\n",
       "      async function convertToInteractive(key) {\n",
       "        const element = document.querySelector('#df-3f82c017-a011-48e6-a4cc-6423744fbf04');\n",
       "        const dataTable =\n",
       "          await google.colab.kernel.invokeFunction('convertToInteractive',\n",
       "                                                    [key], {});\n",
       "        if (!dataTable) return;\n",
       "\n",
       "        const docLinkHtml = 'Like what you see? Visit the ' +\n",
       "          '<a target=\"_blank\" href=https://colab.research.google.com/notebooks/data_table.ipynb>data table notebook</a>'\n",
       "          + ' to learn more about interactive tables.';\n",
       "        element.innerHTML = '';\n",
       "        dataTable['output_type'] = 'display_data';\n",
       "        await google.colab.output.renderOutput(dataTable, element);\n",
       "        const docLink = document.createElement('div');\n",
       "        docLink.innerHTML = docLinkHtml;\n",
       "        element.appendChild(docLink);\n",
       "      }\n",
       "    </script>\n",
       "  </div>\n",
       "\n",
       "\n",
       "<div id=\"df-7c6328cd-1eeb-4dca-b336-12cf62bd5ffa\">\n",
       "  <button class=\"colab-df-quickchart\" onclick=\"quickchart('df-7c6328cd-1eeb-4dca-b336-12cf62bd5ffa')\"\n",
       "            title=\"Suggest charts.\"\n",
       "            style=\"display:none;\">\n",
       "\n",
       "<svg xmlns=\"http://www.w3.org/2000/svg\" height=\"24px\"viewBox=\"0 0 24 24\"\n",
       "     width=\"24px\">\n",
       "    <g>\n",
       "        <path d=\"M19 3H5c-1.1 0-2 .9-2 2v14c0 1.1.9 2 2 2h14c1.1 0 2-.9 2-2V5c0-1.1-.9-2-2-2zM9 17H7v-7h2v7zm4 0h-2V7h2v10zm4 0h-2v-4h2v4z\"/>\n",
       "    </g>\n",
       "</svg>\n",
       "  </button>\n",
       "\n",
       "<style>\n",
       "  .colab-df-quickchart {\n",
       "      --bg-color: #E8F0FE;\n",
       "      --fill-color: #1967D2;\n",
       "      --hover-bg-color: #E2EBFA;\n",
       "      --hover-fill-color: #174EA6;\n",
       "      --disabled-fill-color: #AAA;\n",
       "      --disabled-bg-color: #DDD;\n",
       "  }\n",
       "\n",
       "  [theme=dark] .colab-df-quickchart {\n",
       "      --bg-color: #3B4455;\n",
       "      --fill-color: #D2E3FC;\n",
       "      --hover-bg-color: #434B5C;\n",
       "      --hover-fill-color: #FFFFFF;\n",
       "      --disabled-bg-color: #3B4455;\n",
       "      --disabled-fill-color: #666;\n",
       "  }\n",
       "\n",
       "  .colab-df-quickchart {\n",
       "    background-color: var(--bg-color);\n",
       "    border: none;\n",
       "    border-radius: 50%;\n",
       "    cursor: pointer;\n",
       "    display: none;\n",
       "    fill: var(--fill-color);\n",
       "    height: 32px;\n",
       "    padding: 0;\n",
       "    width: 32px;\n",
       "  }\n",
       "\n",
       "  .colab-df-quickchart:hover {\n",
       "    background-color: var(--hover-bg-color);\n",
       "    box-shadow: 0 1px 2px rgba(60, 64, 67, 0.3), 0 1px 3px 1px rgba(60, 64, 67, 0.15);\n",
       "    fill: var(--button-hover-fill-color);\n",
       "  }\n",
       "\n",
       "  .colab-df-quickchart-complete:disabled,\n",
       "  .colab-df-quickchart-complete:disabled:hover {\n",
       "    background-color: var(--disabled-bg-color);\n",
       "    fill: var(--disabled-fill-color);\n",
       "    box-shadow: none;\n",
       "  }\n",
       "\n",
       "  .colab-df-spinner {\n",
       "    border: 2px solid var(--fill-color);\n",
       "    border-color: transparent;\n",
       "    border-bottom-color: var(--fill-color);\n",
       "    animation:\n",
       "      spin 1s steps(1) infinite;\n",
       "  }\n",
       "\n",
       "  @keyframes spin {\n",
       "    0% {\n",
       "      border-color: transparent;\n",
       "      border-bottom-color: var(--fill-color);\n",
       "      border-left-color: var(--fill-color);\n",
       "    }\n",
       "    20% {\n",
       "      border-color: transparent;\n",
       "      border-left-color: var(--fill-color);\n",
       "      border-top-color: var(--fill-color);\n",
       "    }\n",
       "    30% {\n",
       "      border-color: transparent;\n",
       "      border-left-color: var(--fill-color);\n",
       "      border-top-color: var(--fill-color);\n",
       "      border-right-color: var(--fill-color);\n",
       "    }\n",
       "    40% {\n",
       "      border-color: transparent;\n",
       "      border-right-color: var(--fill-color);\n",
       "      border-top-color: var(--fill-color);\n",
       "    }\n",
       "    60% {\n",
       "      border-color: transparent;\n",
       "      border-right-color: var(--fill-color);\n",
       "    }\n",
       "    80% {\n",
       "      border-color: transparent;\n",
       "      border-right-color: var(--fill-color);\n",
       "      border-bottom-color: var(--fill-color);\n",
       "    }\n",
       "    90% {\n",
       "      border-color: transparent;\n",
       "      border-bottom-color: var(--fill-color);\n",
       "    }\n",
       "  }\n",
       "</style>\n",
       "\n",
       "  <script>\n",
       "    async function quickchart(key) {\n",
       "      const quickchartButtonEl =\n",
       "        document.querySelector('#' + key + ' button');\n",
       "      quickchartButtonEl.disabled = true;  // To prevent multiple clicks.\n",
       "      quickchartButtonEl.classList.add('colab-df-spinner');\n",
       "      try {\n",
       "        const charts = await google.colab.kernel.invokeFunction(\n",
       "            'suggestCharts', [key], {});\n",
       "      } catch (error) {\n",
       "        console.error('Error during call to suggestCharts:', error);\n",
       "      }\n",
       "      quickchartButtonEl.classList.remove('colab-df-spinner');\n",
       "      quickchartButtonEl.classList.add('colab-df-quickchart-complete');\n",
       "    }\n",
       "    (() => {\n",
       "      let quickchartButtonEl =\n",
       "        document.querySelector('#df-7c6328cd-1eeb-4dca-b336-12cf62bd5ffa button');\n",
       "      quickchartButtonEl.style.display =\n",
       "        google.colab.kernel.accessAllowed ? 'block' : 'none';\n",
       "    })();\n",
       "  </script>\n",
       "</div>\n",
       "    </div>\n",
       "  </div>\n"
      ],
      "text/plain": [
       "            #R(kpc     V(km/s)     St.dev.   St.error\n",
       "count    55.000000   55.000000   55.000000  55.000000\n",
       "mean    205.853182  226.079255   55.034818  16.165855\n",
       "std     415.523904   42.799892   49.254792  14.876951\n",
       "min       0.100000  121.974000    0.000000   0.000000\n",
       "25%       1.177000  208.894500   11.945500   3.224000\n",
       "50%      13.737000  229.124000   30.697000  12.065000\n",
       "75%     161.675000  244.102500   99.980000  23.641000\n",
       "max    1887.071000  414.942000  147.835000  54.110000"
      ]
     },
     "execution_count": 5,
     "metadata": {},
     "output_type": "execute_result"
    }
   ],
   "source": [
    "m31.describe()"
   ]
  },
  {
   "cell_type": "code",
   "execution_count": 6,
   "metadata": {
    "colab": {
     "base_uri": "https://localhost:8080/",
     "height": 300
    },
    "id": "C00kHZx-vV7M",
    "outputId": "323dd870-9072-40cf-883c-0ed119e24fb5"
   },
   "outputs": [
    {
     "data": {
      "text/html": [
       "\n",
       "  <div id=\"df-19dbf765-43d2-4661-9260-726927488bf3\" class=\"colab-df-container\">\n",
       "    <div>\n",
       "<style scoped>\n",
       "    .dataframe tbody tr th:only-of-type {\n",
       "        vertical-align: middle;\n",
       "    }\n",
       "\n",
       "    .dataframe tbody tr th {\n",
       "        vertical-align: top;\n",
       "    }\n",
       "\n",
       "    .dataframe thead th {\n",
       "        text-align: right;\n",
       "    }\n",
       "</style>\n",
       "<table border=\"1\" class=\"dataframe\">\n",
       "  <thead>\n",
       "    <tr style=\"text-align: right;\">\n",
       "      <th></th>\n",
       "      <th>R(kpc)</th>\n",
       "      <th>V(km/s)</th>\n",
       "      <th>St.dev.</th>\n",
       "      <th>St.error</th>\n",
       "    </tr>\n",
       "  </thead>\n",
       "  <tbody>\n",
       "    <tr>\n",
       "      <th>count</th>\n",
       "      <td>64.000000</td>\n",
       "      <td>64.000000</td>\n",
       "      <td>64.000000</td>\n",
       "      <td>64.000000</td>\n",
       "    </tr>\n",
       "    <tr>\n",
       "      <th>mean</th>\n",
       "      <td>142.281500</td>\n",
       "      <td>187.101219</td>\n",
       "      <td>48.249063</td>\n",
       "      <td>19.003297</td>\n",
       "    </tr>\n",
       "    <tr>\n",
       "      <th>std</th>\n",
       "      <td>348.144773</td>\n",
       "      <td>52.161901</td>\n",
       "      <td>41.255286</td>\n",
       "      <td>23.513466</td>\n",
       "    </tr>\n",
       "    <tr>\n",
       "      <th>min</th>\n",
       "      <td>0.010000</td>\n",
       "      <td>93.042000</td>\n",
       "      <td>3.370000</td>\n",
       "      <td>0.868000</td>\n",
       "    </tr>\n",
       "    <tr>\n",
       "      <th>25%</th>\n",
       "      <td>0.177250</td>\n",
       "      <td>138.676250</td>\n",
       "      <td>12.585500</td>\n",
       "      <td>2.709750</td>\n",
       "    </tr>\n",
       "    <tr>\n",
       "      <th>50%</th>\n",
       "      <td>3.133500</td>\n",
       "      <td>204.576000</td>\n",
       "      <td>35.288500</td>\n",
       "      <td>13.923000</td>\n",
       "    </tr>\n",
       "    <tr>\n",
       "      <th>75%</th>\n",
       "      <td>55.298250</td>\n",
       "      <td>235.920500</td>\n",
       "      <td>68.412750</td>\n",
       "      <td>24.791250</td>\n",
       "    </tr>\n",
       "    <tr>\n",
       "      <th>max</th>\n",
       "      <td>1682.532000</td>\n",
       "      <td>255.300000</td>\n",
       "      <td>165.096000</td>\n",
       "      <td>110.484000</td>\n",
       "    </tr>\n",
       "  </tbody>\n",
       "</table>\n",
       "</div>\n",
       "    <div class=\"colab-df-buttons\">\n",
       "\n",
       "  <div class=\"colab-df-container\">\n",
       "    <button class=\"colab-df-convert\" onclick=\"convertToInteractive('df-19dbf765-43d2-4661-9260-726927488bf3')\"\n",
       "            title=\"Convert this dataframe to an interactive table.\"\n",
       "            style=\"display:none;\">\n",
       "\n",
       "  <svg xmlns=\"http://www.w3.org/2000/svg\" height=\"24px\" viewBox=\"0 -960 960 960\">\n",
       "    <path d=\"M120-120v-720h720v720H120Zm60-500h600v-160H180v160Zm220 220h160v-160H400v160Zm0 220h160v-160H400v160ZM180-400h160v-160H180v160Zm440 0h160v-160H620v160ZM180-180h160v-160H180v160Zm440 0h160v-160H620v160Z\"/>\n",
       "  </svg>\n",
       "    </button>\n",
       "\n",
       "  <style>\n",
       "    .colab-df-container {\n",
       "      display:flex;\n",
       "      gap: 12px;\n",
       "    }\n",
       "\n",
       "    .colab-df-convert {\n",
       "      background-color: #E8F0FE;\n",
       "      border: none;\n",
       "      border-radius: 50%;\n",
       "      cursor: pointer;\n",
       "      display: none;\n",
       "      fill: #1967D2;\n",
       "      height: 32px;\n",
       "      padding: 0 0 0 0;\n",
       "      width: 32px;\n",
       "    }\n",
       "\n",
       "    .colab-df-convert:hover {\n",
       "      background-color: #E2EBFA;\n",
       "      box-shadow: 0px 1px 2px rgba(60, 64, 67, 0.3), 0px 1px 3px 1px rgba(60, 64, 67, 0.15);\n",
       "      fill: #174EA6;\n",
       "    }\n",
       "\n",
       "    .colab-df-buttons div {\n",
       "      margin-bottom: 4px;\n",
       "    }\n",
       "\n",
       "    [theme=dark] .colab-df-convert {\n",
       "      background-color: #3B4455;\n",
       "      fill: #D2E3FC;\n",
       "    }\n",
       "\n",
       "    [theme=dark] .colab-df-convert:hover {\n",
       "      background-color: #434B5C;\n",
       "      box-shadow: 0px 1px 3px 1px rgba(0, 0, 0, 0.15);\n",
       "      filter: drop-shadow(0px 1px 2px rgba(0, 0, 0, 0.3));\n",
       "      fill: #FFFFFF;\n",
       "    }\n",
       "  </style>\n",
       "\n",
       "    <script>\n",
       "      const buttonEl =\n",
       "        document.querySelector('#df-19dbf765-43d2-4661-9260-726927488bf3 button.colab-df-convert');\n",
       "      buttonEl.style.display =\n",
       "        google.colab.kernel.accessAllowed ? 'block' : 'none';\n",
       "\n",
       "      async function convertToInteractive(key) {\n",
       "        const element = document.querySelector('#df-19dbf765-43d2-4661-9260-726927488bf3');\n",
       "        const dataTable =\n",
       "          await google.colab.kernel.invokeFunction('convertToInteractive',\n",
       "                                                    [key], {});\n",
       "        if (!dataTable) return;\n",
       "\n",
       "        const docLinkHtml = 'Like what you see? Visit the ' +\n",
       "          '<a target=\"_blank\" href=https://colab.research.google.com/notebooks/data_table.ipynb>data table notebook</a>'\n",
       "          + ' to learn more about interactive tables.';\n",
       "        element.innerHTML = '';\n",
       "        dataTable['output_type'] = 'display_data';\n",
       "        await google.colab.output.renderOutput(dataTable, element);\n",
       "        const docLink = document.createElement('div');\n",
       "        docLink.innerHTML = docLinkHtml;\n",
       "        element.appendChild(docLink);\n",
       "      }\n",
       "    </script>\n",
       "  </div>\n",
       "\n",
       "\n",
       "<div id=\"df-012c84c1-b937-4d77-952b-a1d928e3c506\">\n",
       "  <button class=\"colab-df-quickchart\" onclick=\"quickchart('df-012c84c1-b937-4d77-952b-a1d928e3c506')\"\n",
       "            title=\"Suggest charts.\"\n",
       "            style=\"display:none;\">\n",
       "\n",
       "<svg xmlns=\"http://www.w3.org/2000/svg\" height=\"24px\"viewBox=\"0 0 24 24\"\n",
       "     width=\"24px\">\n",
       "    <g>\n",
       "        <path d=\"M19 3H5c-1.1 0-2 .9-2 2v14c0 1.1.9 2 2 2h14c1.1 0 2-.9 2-2V5c0-1.1-.9-2-2-2zM9 17H7v-7h2v7zm4 0h-2V7h2v10zm4 0h-2v-4h2v4z\"/>\n",
       "    </g>\n",
       "</svg>\n",
       "  </button>\n",
       "\n",
       "<style>\n",
       "  .colab-df-quickchart {\n",
       "      --bg-color: #E8F0FE;\n",
       "      --fill-color: #1967D2;\n",
       "      --hover-bg-color: #E2EBFA;\n",
       "      --hover-fill-color: #174EA6;\n",
       "      --disabled-fill-color: #AAA;\n",
       "      --disabled-bg-color: #DDD;\n",
       "  }\n",
       "\n",
       "  [theme=dark] .colab-df-quickchart {\n",
       "      --bg-color: #3B4455;\n",
       "      --fill-color: #D2E3FC;\n",
       "      --hover-bg-color: #434B5C;\n",
       "      --hover-fill-color: #FFFFFF;\n",
       "      --disabled-bg-color: #3B4455;\n",
       "      --disabled-fill-color: #666;\n",
       "  }\n",
       "\n",
       "  .colab-df-quickchart {\n",
       "    background-color: var(--bg-color);\n",
       "    border: none;\n",
       "    border-radius: 50%;\n",
       "    cursor: pointer;\n",
       "    display: none;\n",
       "    fill: var(--fill-color);\n",
       "    height: 32px;\n",
       "    padding: 0;\n",
       "    width: 32px;\n",
       "  }\n",
       "\n",
       "  .colab-df-quickchart:hover {\n",
       "    background-color: var(--hover-bg-color);\n",
       "    box-shadow: 0 1px 2px rgba(60, 64, 67, 0.3), 0 1px 3px 1px rgba(60, 64, 67, 0.15);\n",
       "    fill: var(--button-hover-fill-color);\n",
       "  }\n",
       "\n",
       "  .colab-df-quickchart-complete:disabled,\n",
       "  .colab-df-quickchart-complete:disabled:hover {\n",
       "    background-color: var(--disabled-bg-color);\n",
       "    fill: var(--disabled-fill-color);\n",
       "    box-shadow: none;\n",
       "  }\n",
       "\n",
       "  .colab-df-spinner {\n",
       "    border: 2px solid var(--fill-color);\n",
       "    border-color: transparent;\n",
       "    border-bottom-color: var(--fill-color);\n",
       "    animation:\n",
       "      spin 1s steps(1) infinite;\n",
       "  }\n",
       "\n",
       "  @keyframes spin {\n",
       "    0% {\n",
       "      border-color: transparent;\n",
       "      border-bottom-color: var(--fill-color);\n",
       "      border-left-color: var(--fill-color);\n",
       "    }\n",
       "    20% {\n",
       "      border-color: transparent;\n",
       "      border-left-color: var(--fill-color);\n",
       "      border-top-color: var(--fill-color);\n",
       "    }\n",
       "    30% {\n",
       "      border-color: transparent;\n",
       "      border-left-color: var(--fill-color);\n",
       "      border-top-color: var(--fill-color);\n",
       "      border-right-color: var(--fill-color);\n",
       "    }\n",
       "    40% {\n",
       "      border-color: transparent;\n",
       "      border-right-color: var(--fill-color);\n",
       "      border-top-color: var(--fill-color);\n",
       "    }\n",
       "    60% {\n",
       "      border-color: transparent;\n",
       "      border-right-color: var(--fill-color);\n",
       "    }\n",
       "    80% {\n",
       "      border-color: transparent;\n",
       "      border-right-color: var(--fill-color);\n",
       "      border-bottom-color: var(--fill-color);\n",
       "    }\n",
       "    90% {\n",
       "      border-color: transparent;\n",
       "      border-bottom-color: var(--fill-color);\n",
       "    }\n",
       "  }\n",
       "</style>\n",
       "\n",
       "  <script>\n",
       "    async function quickchart(key) {\n",
       "      const quickchartButtonEl =\n",
       "        document.querySelector('#' + key + ' button');\n",
       "      quickchartButtonEl.disabled = true;  // To prevent multiple clicks.\n",
       "      quickchartButtonEl.classList.add('colab-df-spinner');\n",
       "      try {\n",
       "        const charts = await google.colab.kernel.invokeFunction(\n",
       "            'suggestCharts', [key], {});\n",
       "      } catch (error) {\n",
       "        console.error('Error during call to suggestCharts:', error);\n",
       "      }\n",
       "      quickchartButtonEl.classList.remove('colab-df-spinner');\n",
       "      quickchartButtonEl.classList.add('colab-df-quickchart-complete');\n",
       "    }\n",
       "    (() => {\n",
       "      let quickchartButtonEl =\n",
       "        document.querySelector('#df-012c84c1-b937-4d77-952b-a1d928e3c506 button');\n",
       "      quickchartButtonEl.style.display =\n",
       "        google.colab.kernel.accessAllowed ? 'block' : 'none';\n",
       "    })();\n",
       "  </script>\n",
       "</div>\n",
       "    </div>\n",
       "  </div>\n"
      ],
      "text/plain": [
       "            R(kpc)     V(km/s)     St.dev.    St.error\n",
       "count    64.000000   64.000000   64.000000   64.000000\n",
       "mean    142.281500  187.101219   48.249063   19.003297\n",
       "std     348.144773   52.161901   41.255286   23.513466\n",
       "min       0.010000   93.042000    3.370000    0.868000\n",
       "25%       0.177250  138.676250   12.585500    2.709750\n",
       "50%       3.133500  204.576000   35.288500   13.923000\n",
       "75%      55.298250  235.920500   68.412750   24.791250\n",
       "max    1682.532000  255.300000  165.096000  110.484000"
      ]
     },
     "execution_count": 6,
     "metadata": {},
     "output_type": "execute_result"
    }
   ],
   "source": [
    "mw.describe()"
   ]
  },
  {
   "cell_type": "markdown",
   "metadata": {
    "id": "Vv0Ut6vOOdCk",
    "run_control": {
     "frozen": false,
     "read_only": false
    }
   },
   "source": [
    "from https://en.wikipedia.org/wiki/Andromeda_Galaxy get the extent of the luminous component of M31 (Andromeda). The distance of the Galaxy multiplied by the angular size will give you this information from basic trigonometry (make sure you convert the units properly, using astropy). Make sure you include the uncertainties! uncertainties in the distance will give you the uncertainty in the size\n",
    "   \n"
   ]
  },
  {
   "cell_type": "code",
   "execution_count": 7,
   "metadata": {
    "id": "kvIFr6D778ri"
   },
   "outputs": [],
   "source": [
    " apparentSizeM31 = 3.167 #degree\n"
   ]
  },
  {
   "cell_type": "code",
   "execution_count": 8,
   "metadata": {
    "ExecuteTime": {
     "end_time": "2019-08-02T01:35:41.413407Z",
     "start_time": "2019-08-02T01:35:41.408764Z"
    },
    "colab": {
     "base_uri": "https://localhost:8080/"
    },
    "id": "tzGNh98hOdCl",
    "outputId": "7372e799-2a0a-4d18-df1c-8d439f6373ee",
    "run_control": {
     "frozen": false,
     "read_only": false
    }
   },
   "outputs": [
    {
     "name": "stdout",
     "output_type": "stream",
     "text": [
      "Angular Size of the visible component of Andromeda: 0.06 rad\n"
     ]
    }
   ],
   "source": [
    "m31angS = apparentSizeM31 * u.degree\n",
    "print(\"Angular Size of the visible component of Andromeda: {:.2f}\".format(m31angS.to(u.rad)  ))"
   ]
  },
  {
   "cell_type": "markdown",
   "metadata": {
    "id": "cOw0Y4KNWTOZ"
   },
   "source": [
    "Please make sure you print a sensible number of decimal digits! you have a  number of significant digits set by the number of digit in the info you get from wikipedia"
   ]
  },
  {
   "cell_type": "markdown",
   "metadata": {
    "id": "hF2wXZ988QgS"
   },
   "source": [
    "The distance, from Wikipedia, will have an uncertainty. Convert both to kiloparsecs Kpc"
   ]
  },
  {
   "cell_type": "code",
   "execution_count": 9,
   "metadata": {
    "ExecuteTime": {
     "end_time": "2019-08-02T01:35:42.257553Z",
     "start_time": "2019-08-02T01:35:42.254539Z"
    },
    "colab": {
     "base_uri": "https://localhost:8080/"
    },
    "id": "7-nEP6KrOdCo",
    "outputId": "cd23288f-5be2-4b87-98c8-264c80121676",
    "run_control": {
     "frozen": false,
     "read_only": false
    }
   },
   "outputs": [
    {
     "name": "stdout",
     "output_type": "stream",
     "text": [
      " distance from the observer is : 772.64 kpc\n",
      " error in the distance is : 42.92 kpc\n"
     ]
    }
   ],
   "source": [
    "distance = (2.52 * (10**6) * u.lightyear).to(u.kpc)\n",
    "dist_error = (0.14 * (10**6) * u.lightyear).to(u.kpc)\n",
    "\n",
    "print(f' distance from the observer is : {distance:.2f}')\n",
    "print(f' error in the distance is : {dist_error:.2f}')\n"
   ]
  },
  {
   "cell_type": "code",
   "execution_count": 10,
   "metadata": {
    "id": "uqwVb0pq_LI5"
   },
   "outputs": [],
   "source": [
    "def physical_size(d, angle):\n",
    "  \"\"\" Return:Physical size of the object from the angular size and the distance. \"\"\"\n",
    "  L = 2* d * np.tan(angle/2)\n",
    "  return L"
   ]
  },
  {
   "cell_type": "code",
   "execution_count": 11,
   "metadata": {
    "ExecuteTime": {
     "end_time": "2019-08-02T01:35:42.815232Z",
     "start_time": "2019-08-02T01:35:42.810316Z"
    },
    "colab": {
     "base_uri": "https://localhost:8080/"
    },
    "id": "0y_V9AuFOdCv",
    "outputId": "f2a94861-3a52-4ef2-8bea-d75560267215",
    "run_control": {
     "frozen": false,
     "read_only": false
    }
   },
   "outputs": [
    {
     "name": "stdout",
     "output_type": "stream",
     "text": [
      "Size (diameter) of the visible component of Andromeda: 43 kpc +/- 2.4 kpc\n"
     ]
    }
   ],
   "source": [
    "m31Size = physical_size(distance, m31angS.to(u.rad))\n",
    "m31size_error = physical_size(dist_error, m31angS.to(u.rad)) # assuming only error in distance and not in angle\n",
    "print(\"Size (diameter) of the visible component of Andromeda: \" +\n",
    "      r\"{:.0f} +/- {:2.1f}\".format(m31Size, m31size_error))#, m31SizeError\n"
   ]
  },
  {
   "cell_type": "markdown",
   "metadata": {
    "id": "_pTXgdTL8jv6"
   },
   "source": [
    "Print the distance like I printed the angular size.\n",
    "\n",
    "To get the physical size of the visible component of andtomeda you can use simple trigonometry: $y = r * sin(\\alpha) ~ \\sim ~ r \\alpha $ for small angles\n",
    "\n",
    "\n",
    "Print the physical size of the Andromeda galaxy (remember decimal digits, proper formatting etc etc).\n"
   ]
  },
  {
   "cell_type": "markdown",
   "metadata": {
    "id": "97o52hRhOdCy",
    "run_control": {
     "frozen": false,
     "read_only": false
    }
   },
   "source": [
    "### find the first measurement  in your data table that includes all the luminous mass.\n",
    "\n",
    "What is the smallest radius in your data where the luminous mass is completely included and what is the veolcity at that radius?\n",
    "You can do it by broadcasting (see homework 3)"
   ]
  },
  {
   "cell_type": "code",
   "execution_count": 12,
   "metadata": {
    "ExecuteTime": {
     "end_time": "2019-08-02T02:10:47.943179Z",
     "start_time": "2019-08-02T02:10:47.937541Z"
    },
    "colab": {
     "base_uri": "https://localhost:8080/"
    },
    "id": "JF31dWaBOdCz",
    "outputId": "52e7c6d2-d1f9-4653-c136-2d2bb3568139",
    "run_control": {
     "frozen": false,
     "read_only": false
    }
   },
   "outputs": [
    {
     "name": "stdout",
     "output_type": "stream",
     "text": [
      "luminous_size: 49.22\n",
      "luminous_velocity: 237.07\n",
      "      #R(kpc  V(km/s)  St.dev.  St.error\n",
      "34    49.222  237.069  109.381    23.924\n",
      "35    59.067  249.443  134.552    26.447\n",
      "36    70.880  218.489  132.355    24.657\n",
      "37    85.056  206.603  135.003    27.258\n",
      "38   102.068  213.002  132.456    29.321\n",
      "39   122.481  197.383  105.727    23.358\n",
      "40   146.977  177.521   81.762    16.662\n",
      "41   176.373  165.325   74.652    15.706\n",
      "42   211.647  165.134   76.929    18.733\n",
      "43   253.977  160.787   77.400    22.720\n",
      "44   304.772  151.102   74.793    27.879\n",
      "45   365.727  121.974   96.480    43.431\n",
      "46   438.872  168.303  125.736    51.482\n",
      "47   526.647  200.545  123.350    52.949\n",
      "48   631.976  238.973  147.835    36.195\n",
      "49   758.371  248.069  145.005    19.716\n",
      "50   910.046  250.377  141.353    22.663\n",
      "51  1092.055  241.900  138.657    39.031\n",
      "52  1310.466  235.039  103.480    46.508\n",
      "53  1572.559  332.734  109.504    54.110\n",
      "54  1887.071  414.942   69.579    27.931\n"
     ]
    }
   ],
   "source": [
    "\n",
    "m31_all = m31[m31['#R(kpc'] > m31Size]\n",
    "luminous_size = m31_all['#R(kpc'].values[0]\n",
    "luminous_velocity= m31_all['V(km/s)'].values[0]\n",
    "print(f'luminous_size: {luminous_size:0.2f}')\n",
    "print(f'luminous_velocity: {luminous_velocity:0.2f}')\n",
    "print(m31_all)"
   ]
  },
  {
   "cell_type": "markdown",
   "metadata": {
    "id": "TVWiU84XOdDA",
    "run_control": {
     "frozen": false,
     "read_only": false
    }
   },
   "source": [
    "We expect the velocity to decrease as 1/r if all mass is included: the velocity at a radius twice as far as the radius that includes all the mass should be a factor 2 slower, three times as far a factor 3 slower."
   ]
  },
  {
   "cell_type": "markdown",
   "metadata": {
    "id": "b096Ax33SiXl"
   },
   "source": [
    "write a function that\n",
    "\n",
    "1. finds the smallest radius in the dataset that is at least N times the radius of the visible galaxy,\n",
    "\n",
    "2. takes as arguments:\n",
    "    - the data and\n",
    "    - N\n",
    "    - the size of the luminous component of the galaxy\n",
    "\n",
    "2. Returns the value of the radius and its uncertainty and the velocity and its uncertainty"
   ]
  },
  {
   "cell_type": "code",
   "execution_count": 13,
   "metadata": {
    "ExecuteTime": {
     "end_time": "2019-08-02T02:07:26.053511Z",
     "start_time": "2019-08-02T02:07:26.046677Z"
    },
    "colab": {
     "base_uri": "https://localhost:8080/"
    },
    "id": "-_O34Bb7OdC2",
    "outputId": "fd527aef-1ef2-4f75-865b-979c6dc4913c",
    "run_control": {
     "frozen": false,
     "read_only": false
    }
   },
   "outputs": [
    {
     "name": "stdout",
     "output_type": "stream",
     "text": [
      "(28.485, 16.577, 232.335, 2.106)\n",
      "(49.222, 109.381, 237.069, 23.924)\n",
      "(85.056, 135.003, 206.603, 27.258)\n",
      "{1: 28.485, 2: 49.222, 3: 85.056}\n"
     ]
    },
    {
     "data": {
      "text/plain": [
       "Ellipsis"
      ]
     },
     "execution_count": 13,
     "metadata": {},
     "output_type": "execute_result"
    }
   ],
   "source": [
    "\n",
    "def getradii(data, N =2, lumin_size = luminous_size):\n",
    "    \"\"\"\n",
    "    Find the smallest radius in the dataset that is at least N times the luminous size.\n",
    "\n",
    "    Args:\n",
    "        data (DataFrame): The dataset containing radius, velocity, standard deviation, and standard error.\n",
    "        N (float): A factor to determine the minimum radius.\n",
    "        luminous_size (float): The size of the luminous component of the galaxy.\n",
    "\n",
    "    Returns:\n",
    "        Tuple: (radius, radius_uncertainty, velocity, velocity_uncertainty)\n",
    "    \"\"\"\n",
    "    # Filter the dataset to find the rows where radius >= N * luminous_size\n",
    "    filtered_data = data[data['#R(kpc'] >= N * luminous_size/2]\n",
    "    sorted_data = filtered_data.sort_values(by = '#R(kpc')\n",
    "\n",
    "    if filtered_data.empty:\n",
    "        return None  # No matching data found\n",
    "\n",
    "    # Get the first row of the filtered data\n",
    "    first_row = sorted_data.iloc[0]\n",
    "\n",
    "    # Extract the values\n",
    "    radius = first_row['#R(kpc']\n",
    "    sd = first_row['St.dev.']\n",
    "    velocity = first_row['V(km/s)']\n",
    "    err = first_row['St.error']\n",
    "\n",
    "    return radius, sd, velocity, err\n",
    "\n",
    "print(getradii(m31, N=1))\n",
    "print(getradii(m31, N=2))\n",
    "print(getradii(m31, N=3))\n",
    "radius1, sd1, velocity1, err1 = getradii(m31, N=1)\n",
    "radius2, sd2, velocity2, err2 = getradii(m31, N=2)\n",
    "radius3, sd3, velocity3, err3 = getradii(m31, N=3)\n",
    "radius = {}\n",
    "sd = {}\n",
    "velocity = {}\n",
    "err = {}\n",
    "for i in range(3):\n",
    "  radius[i+1], sd[i+1], velocity[i+1], err[i+1] = getradii(m31, N=i+1)\n",
    "print(radius)\n",
    "\n",
    "\n",
    "\n",
    "..."
   ]
  },
  {
   "cell_type": "markdown",
   "metadata": {
    "ExecuteTime": {
     "end_time": "2019-08-01T18:13:58.231637Z",
     "start_time": "2019-08-01T18:13:58.229447Z"
    },
    "id": "ogu_iquzOdC5",
    "run_control": {
     "frozen": false,
     "read_only": false
    }
   },
   "source": [
    "### data visualization"
   ]
  },
  {
   "cell_type": "markdown",
   "metadata": {
    "id": "kJ6MujVJUyel"
   },
   "source": [
    "make a plot that shows\n",
    "\n",
    "1. the rotational curve of the galaxy (as a line)\n",
    "\n",
    "2. each velocity as an errorbar with error equal to err in the same color as the line in 1\n",
    "\n",
    "3. each velocity as an errorbar with error equal to dv in  the same color but a different line thickness\n",
    "\n",
    "\n",
    "4. the datapoint corresponding to N=1, 2, 3 each in a different color.\n",
    "\n",
    "5. add a legend that indicates the meaning of each color (```pl.legend()```)\n",
    "\n",
    "6. add a text that indicates the velocity and its uncertainty (dv and err) just below the largest errorbar (```pl.text()```)\n",
    "\n",
    "7. limit the x axis to the \"relevant\" portion of the data"
   ]
  },
  {
   "cell_type": "code",
   "execution_count": 14,
   "metadata": {
    "colab": {
     "base_uri": "https://localhost:8080/",
     "height": 981
    },
    "id": "nyMyO0vYTPRR",
    "outputId": "5b63aa95-56ae-435a-824c-e5e973918741"
   },
   "outputs": [
    {
     "name": "stdout",
     "output_type": "stream",
     "text": [
      "1\n",
      "28.485 16.577 232.335 2.106\n",
      "2\n",
      "49.222 109.381 237.069 23.924\n",
      "3\n",
      "85.056 135.003 206.603 27.258\n"
     ]
    },
    {
     "data": {
      "image/png": "[encoded data removed]",
      "text/plain": [
       "<Figure size 1500x1000 with 1 Axes>"
      ]
     },
     "metadata": {},
     "output_type": "display_data"
    }
   ],
   "source": [
    "\n",
    "N_values = [1, 2, 3]\n",
    "all_radius = m31['#R(kpc']\n",
    "all_velocity = m31['V(km/s)']\n",
    "all_err = m31['St.error']\n",
    "all_sd = m31['St.dev.']\n",
    "\n",
    "# Create a new figure and axis\n",
    "fig, ax = plt.subplots(figsize = (15,10))\n",
    "\n",
    "# Plot the rotational curve as a line\n",
    "ax.plot(all_radius, all_velocity, label='Rotational Curve', color='blue', linestyle='-', linewidth=1)\n",
    "\n",
    "# Plot each velocity as an error bar with error equal to err\n",
    "ax.errorbar(all_radius, all_velocity, yerr=all_sd, fmt='o', label='Velocity with err', color='blue')\n",
    "\n",
    "# Plot each velocity as an error bar with error equal to dv and different line thickness\n",
    "ax.errorbar(all_radius, all_velocity, yerr=all_err, fmt='o', label='Velocity with dv', color='blue', linewidth=4)\n",
    "\n",
    "# Plot data points corresponding to N=1, 2, 3 in different colors\n",
    "for N, color in zip(N_values, ['green', 'purple', 'orange']):\n",
    "  print(N)\n",
    "  print(radius[N], sd[N], velocity[N], err[N])\n",
    "#   radius{N}, sd{N}, velocity{N}, err{N} = getradii(m31, N, lumin_size=luminous_size)\n",
    "#   print(radius)\n",
    "#   print(velocity)\n",
    "\n",
    "  # ax.errorbar(radius[N], velocity[N], yerr = err[N], fmt='o', label=f'N={N}', color=color)\n",
    "  ax.errorbar(radius[N], velocity[N], yerr = sd[N], fmt='x', label=f'N={N}', color=color, linewidth = 5)\n",
    "\n",
    "\n",
    "# # Add a legend\n",
    "  ax.legend()\n",
    "\n",
    "  # # Add text indicating velocity and its uncertainty (dv and err) below the largest error bar\n",
    "  # max_err_index = err.index(max(all_err))\n",
    "  ax.text(radius[N]-35, velocity[N] - 1.17*np.max(sd[N]), f' velocity: {velocity[N]} (km/s), err: +/- {err[N]}, sd: +/-{sd[N]}')\n",
    "  # ax.text(0.8*radius[N], -0.2, f' velocity: {velocity[N]}, err: {err[N]}, sd: {sd[N]}' , transforms= transforms)\n",
    "  ax.set_xlim(0, 0.6)\n",
    "\n",
    "  # Add labels and title\n",
    "ax.set_xlabel('Radius (kpc)')\n",
    "ax.set_ylabel('Velocity (km/s)')\n",
    "plt.title('Galaxy Rotational Curve')\n",
    "ax.set_xlim(0, 200)\n",
    "\n",
    "# Display the plot\n",
    "plt.show()\n"
   ]
  },
  {
   "cell_type": "markdown",
   "metadata": {
    "id": "zoqNwbKRa1be"
   },
   "source": [
    "## Fig[1] : GRC curve for the Andromeda galaxy with the error and sd in velocity and 3 highlighted points of diffrent velociteis as descibed in the legend"
   ]
  },
  {
   "cell_type": "code",
   "execution_count": 14,
   "metadata": {
    "id": "E7ZzwMkDa0Et"
   },
   "outputs": [],
   "source": []
  },
  {
   "cell_type": "code",
   "execution_count": 15,
   "metadata": {
    "ExecuteTime": {
     "end_time": "2019-08-02T03:01:27.556063Z",
     "start_time": "2019-08-02T03:01:27.302184Z"
    },
    "colab": {
     "base_uri": "https://localhost:8080/"
    },
    "id": "7IMXYY8BOdC6",
    "outputId": "10482a65-faea-497f-d13a-c0fc9cc685fd",
    "run_control": {
     "frozen": false,
     "read_only": false
    }
   },
   "outputs": [
    {
     "name": "stdout",
     "output_type": "stream",
     "text": [
      "Analysis for N = 1 using err:\n",
      " - Radius at least as large as needed: 28.485 kpc\n",
      " - Velocity at that radius: 232.335 km/s\n",
      " - Ratio of radii: 1.356\n",
      " - Expected ratio in rotational velocities (Newton's law): 1.000000\n",
      " - Ratio of velocities based on radii: 1.000\n",
      " - Difference in ratio:  0.0\n",
      " - The ratio is consistent with Newton's law within 2*sigma = 0.025638270276606954 as uncertainties. \n",
      "\n",
      "Analysis for N = 1 using sd:\n",
      " - Radius at least as large as needed: 28.485 kpc\n",
      " - Velocity at that radius: 232.335 km/s\n",
      " - Expected drop in rotational velocities (Newton's law): 1.000000\n",
      " - Ratio of radii: 1.356\n",
      " - Ratio of velocities based on radii: 1.000\n",
      " - Difference in ratio:  0.0\n",
      " - The ratio is consistent with Newton's law within 2*sigma = 0.2018070305675753 as uncertainties. \n",
      "\n",
      "Analysis for N = 2 using err:\n",
      " - Radius at least as large as needed: 49.222 kpc\n",
      " - Velocity at that radius: 237.069 km/s\n",
      " - Ratio of radii: 1.172\n",
      " - Expected ratio in rotational velocities (Newton's law): 0.707107\n",
      " - Ratio of velocities based on radii: 1.020\n",
      " - The ratio is consistent not within Newton's law within 2*sigma = 0.20677311912292423 as uncertainties. \n",
      "\n",
      "Analysis for N = 2 using sd:\n",
      " - Radius at least as large as needed: 49.222 kpc\n",
      " - Velocity at that radius: 237.069 km/s\n",
      " - Expected drop in rotational velocities (Newton's law): 0.707107\n",
      " - Ratio of radii: 1.172\n",
      " - Ratio of velocities based on radii: 1.020\n",
      " - Difference in ratio:  0.3132689693460886\n",
      " - The ratio is consistent with Newton's law within 2*sigma = 0.9527719036921616 as uncertainties. \n",
      "\n",
      "Analysis for N = 3 using err:\n",
      " - Radius at least as large as needed: 85.056 kpc\n",
      " - Velocity at that radius: 206.603 km/s\n",
      " - Ratio of radii: 1.350\n",
      " - Expected ratio in rotational velocities (Newton's law): 0.577350\n",
      " - Ratio of velocities based on radii: 0.889\n",
      " - The ratio is consistent not within Newton's law within 2*sigma = 0.23519708775511847 as uncertainties. \n",
      "\n",
      "Analysis for N = 3 using sd:\n",
      " - Radius at least as large as needed: 85.056 kpc\n",
      " - Velocity at that radius: 206.603 km/s\n",
      " - Expected drop in rotational velocities (Newton's law): 0.577350\n",
      " - Ratio of radii: 1.350\n",
      " - Ratio of velocities based on radii: 0.889\n",
      " - Difference in ratio:  0.31189586247370515\n",
      " - The ratio is consistent with Newton's law within 2*sigma = 1.1690481859808934 as uncertainties. \n",
      "\n"
     ]
    }
   ],
   "source": [
    "\n",
    "# for vratio\n",
    "def analyze_rotational_velocities(data, luminous_radius, N):\n",
    "    \"\"\"\n",
    "    Analyze rotational velocities of a galaxy.\n",
    "\n",
    "    Parameters:\n",
    "    - data: DataFrame containing the data (columns: radius, velocity, err)\n",
    "    - luminous_radius: Luminous radius of the galaxy\n",
    "    - N: Number of radii to analyze\n",
    "\n",
    "    Returns:\n",
    "    - None (prints the analysis results)\n",
    "    \"\"\"\n",
    "    # Function to calculate the radius at least as large as needed\n",
    "    radius_1, sd_1, velocity_1, err_1 = getradii(m31, N=1)\n",
    "    radius_N, sd_N, velocity_N, err_N = getradii(m31, N=N)\n",
    "\n",
    "    # Calculate the radius and velocity at least as large as needed\n",
    "    # radius_N, velocity_N, err_N = get_radius_at_least_N(data, N)\n",
    "\n",
    "    # Expected drop in rotational velocities according to Newton's law (!!!  I got (sqrt(1/r) but I followed the question. !!!)\n",
    "    expected_drop = 1 / np.sqrt(N)\n",
    "\n",
    "\n",
    "    radius_ratio = radius_N / (N * luminous_radius)\n",
    "    velocity_ratio = velocity_N / velocity_1\n",
    "\n",
    "    def isin(error):\n",
    "      '''\n",
    "      Check if a value is within a 2-sigma range of error of vration from the error in v is given.\n",
    "\n",
    "      Args:\n",
    "      error (str): Type of error ('err' for standard error, 'sd' for standard deviation).\n",
    "      expected_value (float): The expected value.\n",
    "      actual_value (float): The actual observed value.\n",
    "      sigma (float): The standard deviation or standard error.\n",
    "\n",
    "      Returns:\n",
    "      str: 'consistent' or 'inconsistent' depending on whether the value is within 2-sigma.  '''\n",
    "      if error == 'err':\n",
    "        propagated_error = abs(velocity_N/velocity_1)* np.sqrt((err_N/velocity_N)**2 + (err_1/velocity_1)**2)\n",
    "\n",
    "      elif error == 'sd':\n",
    "        propagated_error = abs(velocity_N/velocity_1)* np.sqrt((sd_N/velocity_N)**2 + (sd_1/velocity_1)**2)\n",
    "\n",
    "      else:\n",
    "        print('Check the error string')\n",
    "\n",
    "      dif = abs(expected_drop-velocity_ratio)\n",
    "      if dif < 2*propagated_error:\n",
    "        print(f\" - Difference in ratio:  {dif}\")\n",
    "        print(f\" - The ratio is consistent with Newton's law within 2*sigma = {2*propagated_error} as uncertainties. \\n\")\n",
    "      else:\n",
    "        print(f\" - The ratio is consistent not within Newton's law within 2*sigma = {2*propagated_error} as uncertainties. \\n\")\n",
    "\n",
    "    # # Check if the ratio is consistent with Newton's law\n",
    "    # within_uncertainties_err = np.isclose(velocity_ratio, 1 / radius_ratio, rtol=err_N / velocity_N)\n",
    "    # within_uncertainties_sd = np.isclose(velocity_ratio, 1 / radius_ratio, rtol=sd_N / velocity_N)\n",
    "\n",
    "    # Print the results\n",
    "    print(f\"Analysis for N = {N} using err:\")\n",
    "    print(f\" - Radius at least as large as needed: {radius_N} kpc\")\n",
    "    print(f\" - Velocity at that radius: {velocity_N} km/s\")\n",
    "    print(f\" - Ratio of radii: {radius_ratio:.3f}\")\n",
    "    print(f\" - Expected ratio in rotational velocities (Newton's law): {expected_drop:3f}\")\n",
    "    print(f\" - Ratio of velocities based on radii: {velocity_ratio:.3f}\")\n",
    "    isin(error= 'err')\n",
    "\n",
    "    # if within_uncertainties_err:\n",
    "    #     print(\" - The ratio is consistent with Newton's law within err uncertainties.\")\n",
    "    # else:\n",
    "    #     print(\" - The ratio is not consistent with Newton's law within err uncertainties. \\n\")\n",
    "\n",
    "    # Print the results\n",
    "    print(f\"Analysis for N = {N} using sd:\")\n",
    "    print(f\" - Radius at least as large as needed: {radius_N} kpc\")\n",
    "    print(f\" - Velocity at that radius: {velocity_N} km/s\")\n",
    "    print(f\" - Expected drop in rotational velocities (Newton's law): {expected_drop:3f}\")\n",
    "    print(f\" - Ratio of radii: {radius_ratio:.3f}\")\n",
    "    print(f\" - Ratio of velocities based on radii: {velocity_ratio:.3f}\")\n",
    "    isin(error = 'sd')\n",
    "\n",
    "    # if within_uncertainties_sd:\n",
    "    #     print(\" - The ratio is consistent with Newton's law within sd as uncertainties.\")\n",
    "    # else:\n",
    "    #     print(\" - The ratio is not consistent with Newton's law within sd as uncertainties. \\n \\n\")\n",
    "\n",
    "# Example usage:\n",
    "analyze_rotational_velocities(m31, luminous_radius = 21, N=1)\n",
    "analyze_rotational_velocities(m31, luminous_radius = 21, N=2)\n",
    "analyze_rotational_velocities(m31, luminous_radius = 21, N=3)\n"
   ]
  },
  {
   "cell_type": "markdown",
   "metadata": {},
   "source": [
    "# <mark>WFF</mark> Should test more values of N to better support your analysis."
   ]
  },
  {
   "cell_type": "markdown",
   "metadata": {
    "ExecuteTime": {
     "end_time": "2019-08-02T00:36:41.637045Z",
     "start_time": "2019-08-02T00:36:41.634825Z"
    },
    "id": "6me5k4c1OdDY",
    "run_control": {
     "frozen": false,
     "read_only": false
    }
   },
   "source": [
    "### Discuss!\n",
    "\n",
    "\n",
    "The results are consitent with both kinds of error i.e err and sd."
   ]
  },
  {
   "cell_type": "markdown",
   "metadata": {},
   "source": [
    "# <mark>WFF</mark> This discussion is not thorough enough. For example, you could expand on what results you are referring to, and demonstrate why they are consistent with the errors. You should explain what it means for the results to be consistent with the errors."
   ]
  },
  {
   "cell_type": "markdown",
   "metadata": {
    "id": "QIHRn8UlOdDZ",
    "run_control": {
     "frozen": false,
     "read_only": false
    }
   },
   "source": [
    "## do the same for the Milky Way. If your functions were create properly you should be able to reuse them seamlessly"
   ]
  },
  {
   "cell_type": "code",
   "execution_count": 16,
   "metadata": {
    "colab": {
     "base_uri": "https://localhost:8080/"
    },
    "id": "NVp9cJzv-Dic",
    "outputId": "275fb1c5-cd48-4947-ac55-2e33f18490dd"
   },
   "outputs": [
    {
     "name": "stdout",
     "output_type": "stream",
     "text": [
      "Angular Size (diameter) of the visible component of Milky-way: 0.52 rad\n"
     ]
    }
   ],
   "source": [
    " apparentSizeMW = 30 #degree\n",
    " mwangS = apparentSizeMW * u.degree\n",
    "print(\"Angular Size (diameter) of the visible component of Milky-way: {:.2f}\".format(mwangS.to(u.rad)  ))"
   ]
  },
  {
   "cell_type": "code",
   "execution_count": 17,
   "metadata": {
    "colab": {
     "base_uri": "https://localhost:8080/"
    },
    "id": "bIBN4w29Fxy0",
    "outputId": "0f5c8a91-1500-4cc5-de82-f1180dff7cde"
   },
   "outputs": [
    {
     "name": "stdout",
     "output_type": "stream",
     "text": [
      " distance from the observer is : 8.43 kpc\n",
      " error in the distance is : 0.04292 kpc\n"
     ]
    }
   ],
   "source": [
    "MWdistance = (27.5 * (10**3) * u.lightyear).to(u.kpc)\n",
    "MWdist_error = (0.14 * (10**3) * u.lightyear).to(u.kpc)\n",
    "\n",
    "print(f' distance from the observer is : {MWdistance:.2f}')\n",
    "print(f' error in the distance is : {MWdist_error:.5f}')\n"
   ]
  },
  {
   "cell_type": "code",
   "execution_count": 18,
   "metadata": {
    "colab": {
     "base_uri": "https://localhost:8080/"
    },
    "id": "dhDtVjsII-Ap",
    "outputId": "d1864338-5fd9-4a0d-988d-537fa8f52481"
   },
   "outputs": [
    {
     "name": "stdout",
     "output_type": "stream",
     "text": [
      "Size of the visible component of Milky way: 5 kpc +/- 0.0 kpc\n"
     ]
    }
   ],
   "source": [
    "MWSize = physical_size(MWdistance, mwangS.to(u.rad))\n",
    "MWsize_error = physical_size(MWdist_error, mwangS.to(u.rad)) # assuming only error in distance and not in angle\n",
    "print(\"Size of the visible component of Milky way: \" +\n",
    "      r\"{:.0f} +/- {:2.1f}\".format(MWSize, MWsize_error))"
   ]
  },
  {
   "cell_type": "markdown",
   "metadata": {},
   "source": [
    "# <mark>WFF</mark> The Milky Way is actually abouy 23kpc across. This analysis of angular size for the milky way doesn't work because Earth is inside of the milky way."
   ]
  },
  {
   "cell_type": "code",
   "execution_count": 19,
   "metadata": {
    "colab": {
     "base_uri": "https://localhost:8080/"
    },
    "id": "Nis1MeKCKtDE",
    "outputId": "35a7cec8-f584-4369-c7d3-729f63b52e47"
   },
   "outputs": [
    {
     "name": "stdout",
     "output_type": "stream",
     "text": [
      "luminous_size: 4.92 (kpc)\n",
      "luminous_velocity: 232.17 (km/s)\n",
      "      R(kpc)  V(km/s)  St.dev.  St.error\n",
      "34     4.922  232.173   12.488     1.089\n",
      "35     5.907  236.962   12.605     0.921\n",
      "36     7.088  238.210   13.524     0.868\n",
      "37     8.506  236.831   18.629     1.169\n",
      "38    10.207  237.410   27.047     1.818\n",
      "39    12.248  241.337   35.449     2.753\n",
      "40    14.698  247.075   42.102     4.069\n",
      "41    17.637  252.483   49.524     6.235\n",
      "42    21.165  255.300   58.570     9.816\n",
      "43    25.398  252.966   66.790    14.565\n",
      "44    30.477  240.165   74.879    20.538\n",
      "45    36.573  221.220   75.011    24.638\n",
      "46    43.887  195.333   68.490    24.316\n",
      "47    52.665  175.414   56.813    20.165\n",
      "48    63.198  177.979   47.004    16.345\n",
      "49    75.837  187.898   49.195    16.343\n",
      "50    91.005  179.697   62.587    20.907\n",
      "51   109.205  155.444   77.128    28.516\n",
      "52   131.047  128.756   88.515    39.433\n",
      "53   157.256  106.210   99.924    57.180\n",
      "54   188.707  133.638  165.096   107.880\n",
      "55   226.449  206.093  163.199   110.484\n",
      "56   469.564   93.042  154.196    96.286\n",
      "57   563.477  132.221  124.819    58.109\n",
      "58   676.172  158.660  104.697    34.157\n",
      "59   811.406  160.701  100.247    28.385\n",
      "60   973.688  169.042  111.476    31.909\n",
      "61  1168.425  203.059  114.016    32.681\n",
      "62  1402.110  226.323  104.908    31.401\n",
      "63  1682.532  235.617  100.832    36.887\n"
     ]
    }
   ],
   "source": [
    "mw_all = mw[mw['R(kpc)'] > MWSize]\n",
    "mwluminous_size = mw_all['R(kpc)'].values[0]\n",
    "mwluminous_velocity= mw_all['V(km/s)'].values[0]\n",
    "print(f'luminous_size: {mwluminous_size:0.2f} (kpc)')\n",
    "print(f'luminous_velocity: {mwluminous_velocity:0.2f} (km/s)')\n",
    "print(mw_all)"
   ]
  },
  {
   "cell_type": "code",
   "execution_count": 20,
   "metadata": {
    "colab": {
     "base_uri": "https://localhost:8080/"
    },
    "id": "JHupK7oxMKBu",
    "outputId": "0906e761-ce60-4072-a1a5-707e6f5dcf29"
   },
   "outputs": [
    {
     "name": "stdout",
     "output_type": "stream",
     "text": [
      "{1: 2.849, 2: 4.922, 3: 8.506}\n"
     ]
    }
   ],
   "source": [
    "def getradii_mw(data, N =2, lumin_size = mwluminous_size):\n",
    "    \"\"\"\n",
    "    Find the smallest radius in the dataset that is at least N times the luminous size.\n",
    "\n",
    "    Args:\n",
    "        data (DataFrame): The dataset containing radius, velocity, standard deviation, and standard error.\n",
    "        N (float): A factor to determine the minimum radius.\n",
    "        luminous_size (float): The size of the luminous component of the galaxy.\n",
    "\n",
    "    Returns:\n",
    "        Tuple: (radius, radius_uncertainty, velocity, velocity_uncertainty)\n",
    "    \"\"\"\n",
    "    # Filter the dataset to find the rows where radius >= N * luminous_size\n",
    "    filtered_data = data[data['R(kpc)'] >= N * mwluminous_size/2]\n",
    "    sorted_data = filtered_data.sort_values(by = 'R(kpc)')\n",
    "\n",
    "    if filtered_data.empty:\n",
    "        return None  # No matching data found\n",
    "\n",
    "    # Get the first row of the filtered data\n",
    "    first_row = sorted_data.iloc[0]\n",
    "\n",
    "    # Extract the values\n",
    "    radius = first_row['R(kpc)']\n",
    "    sd = first_row['St.dev.']\n",
    "    velocity = first_row['V(km/s)']\n",
    "    err = first_row['St.error']\n",
    "\n",
    "    return radius, sd, velocity, err\n",
    "\n",
    "\n",
    "radius1, sd1, velocity1, err1 = getradii_mw(mw, N=1)\n",
    "radius2, sd2, velocity2, err2 = getradii_mw(mw, N=2)\n",
    "radius3, sd3, velocity3, err3 = getradii_mw(mw, N=3)\n",
    "radius_mw = {}\n",
    "sd_mw = {}\n",
    "velocity_mw = {}\n",
    "err_mw = {}\n",
    "for i in range(3):\n",
    "  radius_mw[i+1], sd_mw[i+1], velocity_mw[i+1], err_mw[i+1] = getradii_mw(mw, N=i+1)\n",
    "print(radius_mw)"
   ]
  },
  {
   "cell_type": "code",
   "execution_count": 21,
   "metadata": {
    "colab": {
     "base_uri": "https://localhost:8080/",
     "height": 981
    },
    "id": "yC3gpWYdORKo",
    "outputId": "4f89b19d-2480-49c1-8f36-19a36e74551a"
   },
   "outputs": [
    {
     "name": "stdout",
     "output_type": "stream",
     "text": [
      "1\n",
      "28.485 16.577 232.335 2.106\n",
      "2\n",
      "49.222 109.381 237.069 23.924\n",
      "3\n",
      "85.056 135.003 206.603 27.258\n"
     ]
    },
    {
     "data": {
      "image/png": "[encoded data removed]",
      "text/plain": [
       "<Figure size 1500x1000 with 1 Axes>"
      ]
     },
     "metadata": {},
     "output_type": "display_data"
    }
   ],
   "source": [
    "\n",
    "N_values = [1, 2, 3]\n",
    "all_radius = mw['R(kpc)']\n",
    "all_velocity = mw['V(km/s)']\n",
    "all_err = mw['St.error']\n",
    "all_sd = mw['St.dev.']\n",
    "\n",
    "# Create a new figure and axis\n",
    "fig, ax = plt.subplots(figsize = (15,10))\n",
    "\n",
    "# Plot the rotational curve as a line\n",
    "ax.plot(all_radius, all_velocity, label='Rotational Curve', color='blue', linestyle='-', linewidth=1)\n",
    "\n",
    "# Plot each velocity as an error bar with error equal to err\n",
    "ax.errorbar(all_radius, all_velocity, yerr=all_sd, fmt='o', label='Velocity with err', color='blue')\n",
    "\n",
    "# Plot each velocity as an error bar with error equal to dv and different line thickness\n",
    "ax.errorbar(all_radius, all_velocity, yerr=all_err, fmt='o', label='Velocity with dv', color='blue', linewidth=4)\n",
    "\n",
    "# Plot data points corresponding to N=1, 2, 3 in different colors\n",
    "for N, color in zip(N_values, ['green', 'purple', 'orange']):\n",
    "  print(N)\n",
    "  print(radius[N], sd[N], velocity[N], err[N])\n",
    "#   radius{N}, sd{N}, velocity{N}, err{N} = getradii(m31, N, lumin_size=luminous_size)\n",
    "#   print(radius)\n",
    "#   print(velocity)\n",
    "\n",
    "  # ax.errorbar(radius[N], velocity[N], yerr = err[N], fmt='o', label=f'N={N}', color=color)\n",
    "  ax.errorbar(radius[N], velocity[N], yerr = sd[N], fmt='x', label=f'N={N}', color=color, linewidth = 5)\n",
    "\n",
    "\n",
    "# # Add a legend\n",
    "  ax.legend()\n",
    "\n",
    "  # # Add text indicating velocity and its uncertainty (dv and err) below the largest error bar\n",
    "  # max_err_index = err.index(max(all_err))\n",
    "  ax.text(radius[N]-35, velocity[N] - 1.17*np.max(sd[N]), f' velocity: {velocity[N]} (km/s), err: +/-{err[N]}, sd: +/- {sd[N]}')\n",
    "  # ax.text(0.8*radius[N], -0.2, f' velocity: {velocity[N]}, err: {err[N]}, sd: {sd[N]}' , transforms= transforms)\n",
    "  ax.set_xlim(0, 0.6)\n",
    "\n",
    "  # Add labels and title\n",
    "ax.set_xlabel('Radius (kpc)')\n",
    "ax.set_ylabel('Velocity (km/s)')\n",
    "plt.title('Galaxy Rotational Curve')\n",
    "ax.set_xlim(0, 200)\n",
    "\n",
    "# Display the plot\n",
    "plt.show()\n"
   ]
  },
  {
   "cell_type": "markdown",
   "metadata": {
    "id": "pDGtHrR2bLJG"
   },
   "source": [
    "## Fig[2] : GRC curve for the Milkyway galaxy with the error and sd in velocity and 3 highlighted points of diffrent velociteis as descibed in the legend"
   ]
  },
  {
   "cell_type": "code",
   "execution_count": 21,
   "metadata": {
    "id": "xouplKEIbKXU"
   },
   "outputs": [],
   "source": []
  },
  {
   "cell_type": "code",
   "execution_count": 22,
   "metadata": {
    "colab": {
     "base_uri": "https://localhost:8080/"
    },
    "id": "QtBPlLrJPgx9",
    "outputId": "eb12d075-69df-496d-b829-eba5e99cb345"
   },
   "outputs": [
    {
     "name": "stdout",
     "output_type": "stream",
     "text": [
      "Analysis for N = 1 using err:\n",
      " - Radius at least as large as needed: 2.849 kpc\n",
      " - Velocity at that radius: 210.542 km/s\n",
      " - Ratio of radii: 1.158\n",
      " - Expected ratio in rotational velocities (Newton's law): 1.000000\n",
      " - Ratio of velocities based on radii: 1.000\n",
      " - Difference in ratio:  0.0\n",
      " - The ratio is consistent with Newton's law within 2*sigma = 0.016792535009322308 as uncertainties. \n",
      "\n",
      "Analysis for N = 1 using sd:\n",
      " - Radius at least as large as needed: 2.849 kpc\n",
      " - Velocity at that radius: 210.542 km/s\n",
      " - Expected drop in rotational velocities (Newton's law): 1.000000\n",
      " - Ratio of radii: 1.158\n",
      " - Ratio of velocities based on radii: 1.000\n",
      " - Difference in ratio:  0.0\n",
      " - The ratio is consistent with Newton's law within 2*sigma = 0.12783821051896888 as uncertainties. \n",
      "\n",
      "Analysis for N = 2 using err:\n",
      " - Radius at least as large as needed: 4.922 kpc\n",
      " - Velocity at that radius: 232.173 km/s\n",
      " - Ratio of radii: 1.000\n",
      " - Expected ratio in rotational velocities (Newton's law): 0.707107\n",
      " - Ratio of velocities based on radii: 1.103\n",
      " - Difference in ratio:  0.39563281471355793\n",
      " - The ratio is not consistent  within Newton's law within 2*sigma = 0.016687353248999698 as uncertainties. \n",
      "\n",
      "Analysis for N = 2 using sd:\n",
      " - Radius at least as large as needed: 4.922 kpc\n",
      " - Velocity at that radius: 232.173 km/s\n",
      " - Expected drop in rotational velocities (Newton's law): 0.707107\n",
      " - Ratio of radii: 1.000\n",
      " - Ratio of velocities based on radii: 1.103\n",
      " - Difference in ratio:  0.39563281471355793\n",
      " - The ratio is not consistent  within Newton's law within 2*sigma = 0.1549483533193213 as uncertainties. \n",
      "\n",
      "Analysis for N = 3 using err:\n",
      " - Radius at least as large as needed: 8.506 kpc\n",
      " - Velocity at that radius: 236.831 km/s\n",
      " - Ratio of radii: 1.152\n",
      " - Expected ratio in rotational velocities (Newton's law): 0.577350\n",
      " - Ratio of velocities based on radii: 1.125\n",
      " - Difference in ratio:  0.5475131784835224\n",
      " - The ratio is not consistent  within Newton's law within 2*sigma = 0.01736999567568735 as uncertainties. \n",
      "\n",
      "Analysis for N = 3 using sd:\n",
      " - Radius at least as large as needed: 8.506 kpc\n",
      " - Velocity at that radius: 236.831 km/s\n",
      " - Expected drop in rotational velocities (Newton's law): 0.577350\n",
      " - Ratio of radii: 1.152\n",
      " - Ratio of velocities based on radii: 1.125\n",
      " - Difference in ratio:  0.5475131784835224\n",
      " - The ratio is not consistent  within Newton's law within 2*sigma = 0.20409546207577742 as uncertainties. \n",
      "\n"
     ]
    }
   ],
   "source": [
    "\n",
    "# for vratio\n",
    "def analyze_rotational_velocitiesmw(data, luminous_radius, N):\n",
    "    \"\"\"\n",
    "    Analyze rotational velocities of a galaxy.\n",
    "\n",
    "    Parameters:\n",
    "    - data: DataFrame containing the data (columns: radius, velocity, err)\n",
    "    - luminous_radius: Luminous radius of the galaxy\n",
    "    - N: Number of radii to analyze\n",
    "\n",
    "    Returns:\n",
    "    - None (prints the analysis results)\n",
    "    \"\"\"\n",
    "    # Function to calculate the radius at least as large as needed\n",
    "    radius_1, sd_1, velocity_1, err_1 = getradii_mw(mw, N=1)\n",
    "    radius_N, sd_N, velocity_N, err_N = getradii_mw(mw, N=N)\n",
    "\n",
    "    # Calculate the radius and velocity at least as large as needed\n",
    "    # radius_N, velocity_N, err_N = get_radius_at_least_N(data, N)\n",
    "\n",
    "    # Expected drop in rotational velocities according to Newton's law (!!!  I got (sqrt(1/r) but I followed the question. !!!)\n",
    "    expected_drop = 1 / np.sqrt(N)\n",
    "\n",
    "\n",
    "    radius_ratio = radius_N / (N * mwluminous_size/2)\n",
    "    velocity_ratio = velocity_N / velocity_1\n",
    "\n",
    "    def isin(error):\n",
    "      '''\n",
    "      Check if a value is within a 2-sigma range of error for the vratio from propagated error of v.\n",
    "\n",
    "      Args:\n",
    "      error (str): Type of error ('err' for standard error, 'sd' for standard deviation).\n",
    "      expected_value (float): The expected value.\n",
    "      actual_value (float): The actual observed value.\n",
    "      sigma (float): The standard deviation or standard error.\n",
    "\n",
    "      Returns:\n",
    "      str: 'consistent' or 'inconsistent' depending on whether the value is within 2-sigma.  '''\n",
    "      if error == 'err':\n",
    "        propagated_error = abs(velocity_N/velocity_1)* np.sqrt((err_N/velocity_N)**2 + (err_1/velocity_1)**2)\n",
    "\n",
    "      elif error == 'sd':\n",
    "        propagated_error = abs(velocity_N/velocity_1)* np.sqrt((sd_N/velocity_N)**2 + (sd_1/velocity_1)**2)\n",
    "\n",
    "      else:\n",
    "        print('Check the error string')\n",
    "\n",
    "      dif = abs(expected_drop-velocity_ratio)\n",
    "      if dif < 2*propagated_error:\n",
    "        print(f\" - Difference in ratio:  {dif}\")\n",
    "        print(f\" - The ratio is consistent with Newton's law within 2*sigma = {2*propagated_error} as uncertainties. \\n\")\n",
    "      else:\n",
    "        print(f\" - Difference in ratio:  {dif}\")\n",
    "        print(f\" - The ratio is not consistent  within Newton's law within 2*sigma = {2*propagated_error} as uncertainties. \\n\")\n",
    "\n",
    "    # # Check if the ratio is consistent with Newton's law\n",
    "    # within_uncertainties_err = np.isclose(velocity_ratio, 1 / radius_ratio, rtol=err_N / velocity_N)\n",
    "    # within_uncertainties_sd = np.isclose(velocity_ratio, 1 / radius_ratio, rtol=sd_N / velocity_N)\n",
    "\n",
    "    # Print the results\n",
    "    print(f\"Analysis for N = {N} using err:\")\n",
    "    print(f\" - Radius at least as large as needed: {radius_N} kpc\")\n",
    "    print(f\" - Velocity at that radius: {velocity_N} km/s\")\n",
    "    print(f\" - Ratio of radii: {radius_ratio:.3f}\")\n",
    "    print(f\" - Expected ratio in rotational velocities (Newton's law): {expected_drop:3f}\")\n",
    "    print(f\" - Ratio of velocities based on radii: {velocity_ratio:.3f}\")\n",
    "    isin(error= 'err')\n",
    "\n",
    "    # if within_uncertainties_err:\n",
    "    #     print(\" - The ratio is consistent with Newton's law within err uncertainties.\")\n",
    "    # else:\n",
    "    #     print(\" - The ratio is not consistent with Newton's law within err uncertainties. \\n\")\n",
    "\n",
    "    # Print the results\n",
    "    print(f\"Analysis for N = {N} using sd:\")\n",
    "    print(f\" - Radius at least as large as needed: {radius_N} kpc\")\n",
    "    print(f\" - Velocity at that radius: {velocity_N} km/s\")\n",
    "    print(f\" - Expected drop in rotational velocities (Newton's law): {expected_drop:3f}\")\n",
    "    print(f\" - Ratio of radii: {radius_ratio:.3f}\")\n",
    "    print(f\" - Ratio of velocities based on radii: {velocity_ratio:.3f}\")\n",
    "    isin(error = 'sd')\n",
    "\n",
    "    # if within_uncertainties_sd:\n",
    "    #     print(\" - The ratio is consistent with Newton's law within sd as uncertainties.\")\n",
    "    # else:\n",
    "    #     print(\" - The ratio is not consistent with Newton's law within sd as uncertainties. \\n \\n\")\n",
    "\n",
    "# Example usage:\n",
    "analyze_rotational_velocitiesmw(m31, luminous_radius = 21, N=1)\n",
    "analyze_rotational_velocitiesmw(m31, luminous_radius = 21, N=2)\n",
    "analyze_rotational_velocitiesmw(m31, luminous_radius = 21, N=3)\n"
   ]
  },
  {
   "cell_type": "code",
   "execution_count": 22,
   "metadata": {
    "id": "eo_29vh7bIg-"
   },
   "outputs": [],
   "source": []
  },
  {
   "cell_type": "markdown",
   "metadata": {
    "id": "wV0iJc1rSk1h"
   },
   "source": [
    "# for HW 2"
   ]
  },
  {
   "cell_type": "code",
   "execution_count": 22,
   "metadata": {
    "id": "txqwwK8AQRng"
   },
   "outputs": [],
   "source": []
  },
  {
   "cell_type": "code",
   "execution_count": 23,
   "metadata": {
    "id": "c7naJewkZbdf"
   },
   "outputs": [],
   "source": [
    "t ={}\n",
    "tp ={}\n",
    "x = {}\n",
    "xp= {}\n",
    "e = 10**(-7)\n",
    "x[0] = 0\n",
    "t[0] = 2"
   ]
  },
  {
   "cell_type": "code",
   "execution_count": 24,
   "metadata": {
    "colab": {
     "base_uri": "https://localhost:8080/"
    },
    "id": "2MQ7KsxjZu_p",
    "outputId": "d933226f-011c-49f2-ac8e-cd581a56a81e"
   },
   "outputs": [
    {
     "name": "stdout",
     "output_type": "stream",
     "text": [
      "2.2273805020735504\n",
      "2.2273806020735503\n"
     ]
    }
   ],
   "source": [
    "tp[0] = np.random.normal(loc=x[0], scale = 1) # q\n",
    "r = np.random.rand()\n",
    "x[1] = np.random.normal(loc = t[0], scale = np.sqrt(2)) #f(x)\n",
    "xp[1] = np.random.normal(loc = tp[0], scale =  np.sqrt(2) ) #f(x')\n",
    "print(x[1])\n",
    "print(x[1]+e)\n",
    "# print(x[2]/(x[1]+e)>r)\n",
    "if (xp[1]/(x[1]+e)) > r:\n",
    "  t[1] = tp[0]\n",
    "else:\n",
    "  t[1] = tp[0]"
   ]
  },
  {
   "cell_type": "code",
   "execution_count": 25,
   "metadata": {
    "id": "uzaWMOsbgaz0"
   },
   "outputs": [],
   "source": [
    "tp[1] = np.random.normal(loc=x[1], scale = 1)\n",
    "r = np.random.rand()\n",
    "x[2] = np.random.normal(loc = t[1], scale = np.sqrt(2))\n",
    "xp[2] = np.random.normal(loc = tp[1], scale =  np.sqrt(2) )\n",
    "if (xp[2]/(x[2]+e)) > r:\n",
    "  t[2] = tp[1]\n",
    "else:\n",
    "  t[2] = t[1]\n"
   ]
  },
  {
   "cell_type": "code",
   "execution_count": 26,
   "metadata": {
    "id": "Fov_aZd6nFXi"
   },
   "outputs": [],
   "source": [
    "for i in range (10**4):\n",
    "  tp[i+1] = np.random.normal(loc = x[i+1], scale =1)\n",
    "  r = np.random.rand()\n",
    "  x[i+2] = np.random.normal(loc = 2, scale = np.sqrt(2))\n",
    "  xp[i+2] = np.random.normal(loc = t[i+1])\n",
    "\n",
    "  if (xp[i+2]/(x[i+2]+e)) > r:\n",
    "    t[i+2] = tp[i+1]\n",
    "  else:\n",
    "    t[i+2] = t[i+1]\n",
    "\n",
    "\n"
   ]
  },
  {
   "cell_type": "code",
   "execution_count": 27,
   "metadata": {
    "colab": {
     "base_uri": "https://localhost:8080/",
     "height": 787
    },
    "id": "8eUQJeXgN1Wd",
    "outputId": "87e3ac78-99f2-495c-caab-501dfa802431"
   },
   "outputs": [
    {
     "data": {
      "image/png": "[encoded data removed]",
      "text/plain": [
       "<Figure size 1200x800 with 1 Axes>"
      ]
     },
     "metadata": {},
     "output_type": "display_data"
    }
   ],
   "source": [
    "x_list = list(x.values())\n",
    "counts, bins = np.histogram(x_list, bins=100, density =True)\n",
    "\n",
    "# Create a range of x-values for the normal distribution\n",
    "x0 = np.linspace(min(x_list), max(x_list), 1000)\n",
    "\n",
    "# Calculate the PDF of the normal distribution\n",
    "mean = 2\n",
    "std_dev = np.sqrt(2)\n",
    "y0 = scipy.stats.norm.pdf(x0, loc=mean, scale=std_dev)\n",
    "\n",
    "# Create a figure and axis\n",
    "fig, ax = plt.subplots(figsize=(12, 8))\n",
    "\n",
    "# Plot the histogram\n",
    "ax.stairs(counts, bins, label='MH-MCMC')\n",
    "\n",
    "# Plot the normal distribution\n",
    "ax.plot(x0, y0, label='Pdf Normal Distribution')\n",
    "\n",
    "# Add labels and a legend\n",
    "ax.set_xlabel('X-axis Label')\n",
    "ax.set_ylabel('Probability Density')\n",
    "ax.set_title('Histogram sampled from MH-MCMC ploted with true pdf')\n",
    "ax.legend()\n",
    "\n",
    "# Show the plot\n",
    "plt.grid(True)\n",
    "ax.text(0.5, -0.15, ' Fig[3]: MH-MCMC as the sampler to sample from the gaussain distribution with mean=2 \\n varience=2 sampled for 10^4 times', fontsize=12, ha='center', va='center', transform=ax.transAxes)\n",
    "\n",
    "plt.show()\n",
    "\n",
    "\n",
    "\n"
   ]
  },
  {
   "cell_type": "code",
   "execution_count": 27,
   "metadata": {
    "id": "Z-bJvJPaSoRC"
   },
   "outputs": [],
   "source": []
  }
 ],
 "metadata": {
  "colab": {
   "collapsed_sections": [
    "6me5k4c1OdDY"
   ],
   "include_colab_link": true,
   "provenance": []
  },
  "kernelspec": {
   "display_name": "Python 3 (ipykernel)",
   "language": "python",
   "name": "python3"
  },
  "language_info": {
   "codemirror_mode": {
    "name": "ipython",
    "version": 3
   },
   "file_extension": ".py",
   "mimetype": "text/x-python",
   "name": "python",
   "nbconvert_exporter": "python",
   "pygments_lexer": "ipython3",
   "version": "3.11.5"
  },
  "nbTranslate": {
   "displayLangs": [
    "*"
   ],
   "hotkey": "alt-t",
   "langInMainMenu": true,
   "sourceLang": "en",
   "targetLang": "fr",
   "useGoogleTranslate": true
  },
  "toc": {
   "base_numbering": 1,
   "colors": {
    "hover_highlight": "#DAA520",
    "running_highlight": "#FF0000",
    "selected_highlight": "#FFD700"
   },
   "moveMenuLeft": true,
   "nav_menu": {},
   "navigate_menu": true,
   "number_sections": true,
   "sideBar": true,
   "skip_h1_title": false,
   "threshold": 4,
   "title_cell": "Table of Contents",
   "title_sidebar": "Contents",
   "toc_cell": false,
   "toc_position": {
    "height": "calc(100% - 180px)",
    "left": "10px",
    "top": "150px",
    "width": "165px"
   },
   "toc_section_display": true,
   "toc_window_display": true
  }
 },
 "nbformat": 4,
 "nbformat_minor": 4
}
