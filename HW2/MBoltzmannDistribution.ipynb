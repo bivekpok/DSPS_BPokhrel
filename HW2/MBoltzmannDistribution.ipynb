{
 "cells": [
  {
   "cell_type": "markdown",
   "metadata": {
    "colab_type": "text",
    "id": "view-in-github"
   },
   "source": [
    "<a href=\"https://colab.research.google.com/github/bivekpok/DSPS_BPokhrel/blob/main/HW2/MBoltzmannDistribution.ipynb\" target=\"_parent\"><img src=\"https://colab.research.google.com/assets/colab-badge.svg\" alt=\"Open In Colab\"/></a>"
   ]
  },
  {
   "cell_type": "markdown",
   "metadata": {
    "ExecuteTime": {
     "end_time": "2019-09-04T04:50:01.872913Z",
     "start_time": "2019-09-04T04:50:01.869703Z"
    },
    "id": "dk3tkh__KvAc"
   },
   "source": [
    " Written by Federica B. Bianco @fedhere\n",
    "UDel DSPS"
   ]
  },
  {
   "cell_type": "code",
   "execution_count": 2,
   "metadata": {
    "ExecuteTime": {
     "end_time": "2019-09-07T17:36:53.625807Z",
     "start_time": "2019-09-07T17:36:53.393906Z"
    },
    "colab": {
     "base_uri": "https://localhost:8080/"
    },
    "id": "iQaonMUBqtX2",
    "outputId": "7f442850-b2e4-4e0f-c62d-ae99ffeb7e69"
   },
   "outputs": [
    {
     "name": "stdout",
     "output_type": "stream",
     "text": [
      "Populating the interactive namespace from numpy and matplotlib\n"
     ]
    }
   ],
   "source": [
    "from __future__ import print_function, division\n",
    "import numpy as np\n",
    "import scipy as sp\n",
    "from scipy import stats\n",
    "import pylab as pl\n",
    "%pylab inline\n"
   ]
  },
  {
   "cell_type": "markdown",
   "metadata": {
    "id": "zu5QKDi5b7vW"
   },
   "source": [
    "# Homework 1: Maxwell Boltzmann distribution"
   ]
  },
  {
   "cell_type": "markdown",
   "metadata": {
    "id": "ueaB0mHCO_iM"
   },
   "source": [
    "In Physics, statistics can help us describe the macroscopic behavior of a system if we know its microscopic properties in a statistical sense. We cannot know the motion of each molecule in a gas, but we can know the distribution of their velocities and positions.   In the mid to late 1800s, James Clerk Maxwell and Ludwig Boltzmann modeled the *distribution of speed of molecules in a gas*. As you probably know, and can intuitive realize, the speed of the molecules depends on the temperature of the gas, which is a macroscopic property, the velocity of the molecules is different for different gas temperatures. **This distribution of velocities is called the Maxwell-Boltzmann distribution.**\n"
   ]
  },
  {
   "cell_type": "markdown",
   "metadata": {
    "id": "7LpR51uQSvN9"
   },
   "source": [
    "It turns out that the Maxwel-Boltzmann distribution is a special case of the [*Chi distribution*](https://en.wikipedia.org/wiki/Chi_distribution). The parameter that controls the shape of a Chi distribution is called \"degrees of freedom\" and the Maxwel-Boltzmann distribution is a Chi2 distribution _with 3 degrees of freedom_, and with a scale parameter _a_ corresponding to the temperature in some way.\n"
   ]
  },
  {
   "cell_type": "markdown",
   "metadata": {
    "id": "Pc25lN9SUxQL"
   },
   "source": [
    "Below I have created 3 distributions. Based on the description above\n",
    "\n",
    "\n",
    "# 1) label the axes in the plot"
   ]
  },
  {
   "cell_type": "code",
   "execution_count": 41,
   "metadata": {
    "ExecuteTime": {
     "end_time": "2019-09-07T17:36:56.493299Z",
     "start_time": "2019-09-07T17:36:56.021862Z"
    },
    "colab": {
     "base_uri": "https://localhost:8080/",
     "height": 466
    },
    "id": "LZm2afzhUwuG",
    "outputId": "a138da6b-e4dd-4076-dd01-2b83f01fac9e"
   },
   "outputs": [
    {
     "data": {
      "text/plain": [
       "Text(0, 0.5, 'count')"
      ]
     },
     "execution_count": 41,
     "metadata": {},
     "output_type": "execute_result"
    },
    {
     "data": {
      "image/png": "[encoded data removed]",
      "text/plain": [
       "<Figure size 640x480 with 1 Axes>"
      ]
     },
     "metadata": {},
     "output_type": "display_data"
    }
   ],
   "source": [
    "np.random.seed(42)\n",
    "np.random.randn(123)\n",
    "\n",
    "fig, ax = pl.subplots()\n",
    "for a in [0.2, 0.6, 1.0]:\n",
    "    ax.hist(sp.stats.chi.rvs(df=3, scale=a, size=1000), # could as well be sp.stats.maxwell.rvs(scale=a, size=1000)\n",
    "          bins=np.arange(0,5,0.1)-0.05, alpha=0.7,\n",
    "       label=\"a = %.1f\"%a);\n",
    "\n",
    "pl.legend()\n",
    "# your code to add labels here\n",
    "pl.xlabel('speed values')\n",
    "pl.ylabel('count')\n",
    "# pl.legend('Histogram plot of Maxwell Bolzmann distribution')\n",
    "\n"
   ]
  },
  {
   "cell_type": "markdown",
   "metadata": {
    "id": "MGdILsLAaopl"
   },
   "source": [
    "# 2) knowing that the *scale* parameter $a$  is a function of the temperature  *T*, and that the dependency is to a power 1/2, which is correct:\n",
    "   **$a \\propto \\sqrt{T}$**  or **$a \\propto \\sqrt{1/T}$**?\n",
    "\n",
    "   (in other words, is the dependency on the root of the temperature or on the inverse root of the temperature ?)\n"
   ]
  },
  {
   "cell_type": "markdown",
   "metadata": {
    "id": "UgoPHEhQCHB9"
   },
   "source": [
    "Answer: $ a \\propto \\sqrt(T) $"
   ]
  },
  {
   "cell_type": "markdown",
   "metadata": {
    "id": "hGeeXYttXLO1"
   },
   "source": [
    "\n",
    "# 3) What is the mean of all three distributions. How does it compare to the most probable molecular speed?\n",
    "From the wikipedia page of the Chi distribution find the formula of the mean of the Chi distribution. The distribution we are using has a scale parameter *a* in addition to the number of degrees of freedom. The mean scales linearly with this parameter:\n",
    "\n",
    "$\\mu_{\\mathrm{MB}, k, a} = a \\cdot \\mu_{\\mathrm{chi}, k}$\n",
    "\n",
    "Using the scipy function ```sp.special.gamma()``` to  calculate the gamma $\\Gamma$ function, and the definition of the mean from the [wikipwdia page of the Chi2 distribution](https://en.wikipedia.org/wiki/Chi_distribution)\n",
    "**calculate the mean of all three distributions. Compare it with the mean of the empirical distributions I generated in step 1. How does this mean compare to the most probable molecular speed.**\n",
    "(and does it look right based on the plots above?)"
   ]
  },
  {
   "cell_type": "code",
   "execution_count": 40,
   "metadata": {
    "colab": {
     "base_uri": "https://localhost:8080/"
    },
    "id": "RMVvYd-Do4qF",
    "outputId": "46c25f1b-be14-4907-e487-2d96301c5800"
   },
   "outputs": [
    {
     "name": "stdout",
     "output_type": "stream",
     "text": [
      "\n",
      "\n",
      "Mean of MB with a 0.2  = 0.31915382432114625\n",
      " emperical mean 0.31792433233704354\n",
      " Most probable speed; 0.3\n",
      "\n",
      "\n",
      "Mean of MB with a 0.6  = 0.9574614729634385\n",
      " emperical mean 0.9588502013533906\n",
      " Most probable speed; 1.0\n",
      "\n",
      "\n",
      "Mean of MB with a 1.0  = 1.595769121605731\n",
      " emperical mean 1.619757460586005\n",
      " Most probable speed; 1.6\n"
     ]
    }
   ],
   "source": [
    "\n",
    "import scipy.special as sps\n",
    "from math import sqrt\n",
    "\n",
    "def chi_mean(k):\n",
    "    mean = sqrt(2) * sps.gamma((k + 1) / 2) / sps.gamma(k / 2)\n",
    "    return mean\n",
    "\n",
    "for a in [0.2, 0.6, 1.0]:\n",
    "  # mean form the theory\n",
    "  result = a * chi_mean(k=3)\n",
    "  print('\\n')\n",
    "  print(f\"Mean of MB with a {a}  = {result}\")\n",
    "  # empeircal mean\n",
    "  emperical_mean = np.mean(sp.stats.chi.rvs(df=3, scale=a, size=1000))\n",
    "  print(f' emperical mean {emperical_mean}')\n",
    "  # most probabble speed from the data is equivalent to the mode, I had to round the value to 1 decimal place to bin them together.\n",
    "  empirical_values = sp.stats.chi.rvs(df=3, scale=a, size=1000)\n",
    "  empirical_values = [round(value, 1) for value in empirical_values]  # Round to 2 decimal places\n",
    "  empirical_mode = stats.mode(empirical_values)[0]\n",
    "  print(f' Most probable speed; {empirical_mode}')"
   ]
  },
  {
   "cell_type": "markdown",
   "metadata": {
    "id": "r7oes80EQER-"
   },
   "source": [
    "This really only holds for perfect gasses, which means under 4 assumptions:\n",
    "- the diameter of the molecules is much smaller than the distance between them\n",
    "- the collisions between molecules conserve energy\n",
    "- the molecules do not interact between collisions and are not subject to any other forces (move at constant speed in a straight line)\n",
    "- the initial position and velocity are random."
   ]
  },
  {
   "cell_type": "markdown",
   "metadata": {
    "id": "3PJ9hjLzQjyA"
   },
   "source": [
    "# Extra Credit:\n",
    "\n",
    "can you create a python (2D) simulation where the molecules behave as describe and calculate their speed evolution from an initial speed that is gaussian distributed? (rather hard!!)\n"
   ]
  },
  {
   "cell_type": "code",
   "execution_count": null,
   "metadata": {
    "ExecuteTime": {
     "end_time": "2019-09-07T17:37:01.623460Z",
     "start_time": "2019-09-07T17:37:01.621218Z"
    },
    "id": "6LJU9GPVRO7B"
   },
   "outputs": [],
   "source": [
    "# your code here"
   ]
  },
  {
   "cell_type": "code",
   "execution_count": 25,
   "metadata": {
    "id": "lHe2N_eTXUX8"
   },
   "outputs": [],
   "source": [
    "sp.stats.mode?\n",
    "\n"
   ]
  },
  {
   "cell_type": "code",
   "execution_count": 26,
   "metadata": {
    "colab": {
     "base_uri": "https://localhost:8080/"
    },
    "id": "1-Qp7Cxla4LE",
    "outputId": "8fe37f13-b4d9-4089-c21f-8396d5b91684"
   },
   "outputs": [
    {
     "data": {
      "text/plain": [
       "array([0.66152184, 2.5810771 , 2.00090098, 1.97142139, 0.41815519,\n",
       "       1.08882453, 1.89345635, 0.79164508, 1.83159043, 0.80660824,\n",
       "       0.59854492, 1.86294406, 1.56883577, 1.40696171, 1.47190438,\n",
       "       1.47248504, 0.48163411, 2.15610712, 2.52178387, 2.94529295,\n",
       "       1.72451199, 0.59735738, 2.12885392, 1.61046842, 1.6668533 ,\n",
       "       0.92708389, 1.82859174, 2.15705978, 1.61841677, 1.17893269,\n",
       "       1.22979682, 1.68598918, 1.20084372, 0.75294775, 2.11393604,\n",
       "       1.53285895, 1.63002811, 1.06079358, 0.75183477, 0.96108091,\n",
       "       1.14215281, 1.19315464, 1.41495304, 2.26745997, 2.02553998,\n",
       "       1.95873437, 0.77241406, 1.90733675, 2.24451263, 1.18724947,\n",
       "       0.74008034, 1.84789111, 2.01011065, 1.48195804, 2.14373353,\n",
       "       1.53096465, 0.88978571, 1.52020388, 1.6030683 , 1.46988987,\n",
       "       0.63739532, 2.73225136, 3.27829561, 1.32894159, 1.39546061,\n",
       "       1.52733912, 1.43417811, 0.90249772, 2.08013695, 2.12060314,\n",
       "       1.4174703 , 1.37349055, 1.35494172, 2.05862013, 1.51170552,\n",
       "       1.32132464, 0.75116389, 2.18988042, 1.01723282, 0.74129077,\n",
       "       1.91127774, 1.50327814, 3.34173138, 0.67609148, 1.1145754 ,\n",
       "       1.90935577, 1.46835593, 1.61456103, 1.61211188, 0.50061825,\n",
       "       1.65963582, 2.02833221, 0.93915914, 0.97171468, 1.2044316 ,\n",
       "       0.72723161, 0.87598416, 1.54101196, 2.43854229, 1.13520902,\n",
       "       2.82337375, 1.12517813, 2.10408901, 1.00416129, 1.7615919 ,\n",
       "       2.67951039, 1.93060877, 1.39792406, 1.35517031, 1.77209001,\n",
       "       2.00312882, 2.09575064, 1.5512061 , 1.74293992, 0.98031192,\n",
       "       1.84225497, 1.01334253, 1.62266298, 1.26792559, 2.57326364,\n",
       "       1.54456108, 2.67684044, 1.47650443, 2.84802433, 1.87807858,\n",
       "       1.28110639, 1.06494346, 0.76246721, 1.03381514, 1.15431895,\n",
       "       0.55941754, 1.38677147, 1.84178876, 3.37260683, 2.47752066,\n",
       "       1.3623587 , 1.52633934, 1.91410625, 1.4105222 , 1.55875949,\n",
       "       1.03347241, 1.49923075, 1.59082437, 0.77681149, 1.89335173,\n",
       "       1.93174944, 1.96398877, 1.04467191, 2.67835321, 1.28581226,\n",
       "       0.82038115, 2.60894508, 0.91614112, 1.72296757, 1.12991456,\n",
       "       0.6231977 , 0.90030553, 2.49417735, 1.53248769, 1.18508221,\n",
       "       1.32843942, 0.8342488 , 0.98980706, 2.1004954 , 1.66043916,\n",
       "       1.49542242, 1.3820595 , 0.56445283, 1.43544747, 2.10132867,\n",
       "       1.11668026, 1.44571243, 2.40913315, 2.69130574, 2.68512514,\n",
       "       0.60406733, 2.17074922, 2.21912911, 1.48512964, 1.26362125,\n",
       "       2.1646302 , 1.57116438, 0.9868646 , 1.98527605, 2.37868537,\n",
       "       2.10109716, 2.15305275, 0.82823747, 1.17024075, 1.67301729,\n",
       "       2.58405333, 1.00519765, 2.53327149, 0.49807362, 2.41156013,\n",
       "       2.327891  , 3.06990907, 2.21287356, 1.73670046, 1.27137168,\n",
       "       1.19745481, 1.46299334, 1.22862817, 1.98502473, 2.19161252,\n",
       "       0.96560444, 2.23574786, 1.78788802, 1.31519737, 2.3908841 ,\n",
       "       1.04429229, 0.7542407 , 1.01732489, 1.17060592, 2.3540274 ,\n",
       "       2.30948021, 1.53819458, 0.43583254, 1.07489627, 2.95781932,\n",
       "       2.13656072, 0.40997312, 0.26212126, 2.09941812, 2.55563314,\n",
       "       0.87402374, 1.05036385, 2.27825904, 1.3168548 , 1.40191665,\n",
       "       1.37031072, 1.60893099, 1.75473551, 3.05014193, 1.26603251,\n",
       "       1.39916878, 0.82487079, 1.60134708, 2.34574238, 1.04400694,\n",
       "       0.96211458, 2.26363679, 1.75067037, 0.96672646, 1.63892322,\n",
       "       0.91668941, 1.29379421, 1.35232105, 2.25037021, 1.93608593,\n",
       "       2.30359406, 1.28272767, 1.85915128, 0.9465791 , 0.74613913,\n",
       "       2.11632816, 2.85198644, 1.38167103, 1.91838954, 1.89857999,\n",
       "       2.74894592, 1.29301611, 1.58112661, 0.96495966, 0.78891143,\n",
       "       2.02001227, 1.07307267, 1.10398633, 1.83801417, 1.341894  ,\n",
       "       2.03757576, 2.05371623, 1.64609879, 1.56425898, 2.83104845,\n",
       "       1.43060527, 2.08894508, 0.91750819, 1.54744072, 2.09462415,\n",
       "       0.9874353 , 1.46980206, 1.52680269, 1.02011754, 1.10756229,\n",
       "       0.90371896, 0.38354477, 0.92896229, 1.64009159, 1.13047924,\n",
       "       1.4764027 , 1.57152994, 1.3713161 , 2.08149156, 3.18232151,\n",
       "       0.93481855, 2.24870634, 1.0230428 , 1.78095346, 0.74442281,\n",
       "       1.7245445 , 1.25637868, 1.24087073, 1.63826882, 0.87690806,\n",
       "       0.87345261, 1.28114087, 2.2256354 , 1.29722924, 3.20615326,\n",
       "       3.5332678 , 1.46306544, 0.95049814, 1.54205848, 1.67013515,\n",
       "       1.93513402, 0.66278133, 1.62305545, 2.4818165 , 0.35298239,\n",
       "       0.98492719, 2.50389679, 1.11664077, 1.59927625, 1.80508646,\n",
       "       0.98707982, 0.79927464, 1.36830149, 2.31688053, 1.62873829,\n",
       "       0.81117625, 2.09524211, 0.83814826, 1.78444623, 1.40245307,\n",
       "       1.21487105, 1.3347948 , 1.42138641, 1.4826743 , 1.67111501,\n",
       "       2.22115012, 2.93159309, 1.50713809, 2.12335863, 1.58585123,\n",
       "       1.29603513, 1.70673691, 0.6586851 , 0.91471492, 0.77203466,\n",
       "       1.66558566, 0.43517248, 0.71950691, 0.52333468, 1.51986637,\n",
       "       1.20461914, 1.33935184, 1.78580718, 1.45146004, 1.26931945,\n",
       "       0.42626076, 1.78720883, 0.39885909, 1.63379842, 4.0959088 ,\n",
       "       1.91206254, 1.07373422, 2.18649407, 3.10647887, 2.32849247,\n",
       "       2.61490169, 0.94769147, 1.21870463, 2.02920587, 1.43512208,\n",
       "       0.90515235, 1.92538535, 2.02614902, 1.29728794, 0.82276864,\n",
       "       1.18989253, 1.23773614, 1.59004947, 0.73762738, 1.38169779,\n",
       "       1.14495931, 1.93416359, 4.7795143 , 1.62928899, 1.46297094,\n",
       "       1.77129687, 2.04998842, 0.16532097, 1.45720816, 2.14900023,\n",
       "       0.56251877, 1.62331447, 2.23346359, 3.06796811, 1.69826563,\n",
       "       1.92823631, 1.84690926, 0.65909925, 3.49154912, 1.76111997,\n",
       "       1.35713655, 2.50293893, 1.02951836, 1.86409932, 1.29593277,\n",
       "       1.00824923, 1.52542539, 1.6243505 , 1.43814056, 3.61953929,\n",
       "       1.6180135 , 1.26747497, 1.5995913 , 2.03644316, 1.81596224,\n",
       "       2.78784884, 1.7025918 , 0.31295019, 1.62570353, 1.63461611,\n",
       "       2.27488873, 0.42090386, 1.89813266, 2.14350706, 1.64063325,\n",
       "       2.06890957, 0.92016956, 2.19770401, 0.8314544 , 1.1163953 ,\n",
       "       1.99049551, 3.19227987, 2.97606349, 1.76655561, 0.57553338,\n",
       "       1.13889962, 1.31408922, 0.20851883, 0.82159784, 2.22372106,\n",
       "       2.90292888, 2.366703  , 1.17486231, 2.02984712, 1.5036947 ,\n",
       "       0.8174014 , 1.72939289, 1.95228797, 0.91925424, 0.67016906,\n",
       "       1.18791293, 2.5077075 , 2.10349223, 1.23103428, 0.96542414,\n",
       "       1.49727553, 0.78863518, 1.64894812, 1.39212032, 0.18031462,\n",
       "       1.26438656, 0.21911224, 1.69928225, 0.75033685, 0.50147902,\n",
       "       1.33478541, 1.27486296, 1.72409048, 0.77185937, 2.6227509 ,\n",
       "       2.05709417, 2.66189483, 1.36732721, 0.90609412, 2.90536196,\n",
       "       2.04097012, 1.31710535, 1.47152286, 1.19511717, 2.25486103,\n",
       "       1.78423464, 1.88335129, 0.85738012, 1.40833099, 1.63489474,\n",
       "       0.5437884 , 1.77209191, 1.56337638, 2.17617634, 2.32526428,\n",
       "       3.15136028, 1.61251123, 1.26442879, 0.77648531, 0.68902241,\n",
       "       1.46204707, 0.6459328 , 0.72652842, 1.48639597, 1.21542965,\n",
       "       0.90226982, 1.25897717, 2.08551672, 1.78656618, 2.2881745 ,\n",
       "       1.36896171, 1.19519715, 1.59372121, 0.73642189, 1.31621763,\n",
       "       1.24687805, 3.82404225, 2.46132363, 1.97635048, 1.81394053,\n",
       "       2.80523078, 1.80736488, 1.36868688, 1.28175682, 2.03608955,\n",
       "       0.97377155, 2.16095218, 1.20259483, 0.91376996, 1.83347052,\n",
       "       1.3929213 , 2.68591531, 1.38202149, 1.40838228, 2.787048  ,\n",
       "       2.03524476, 1.75219816, 1.21375745, 0.64063236, 1.7665494 ,\n",
       "       0.70405466, 1.1883977 , 0.88092732, 0.64029412, 1.96853778,\n",
       "       1.42074063, 0.59420479, 1.19438392, 2.00415866, 0.11761462,\n",
       "       1.6038504 , 0.237593  , 1.28794108, 1.71200759, 2.07756171,\n",
       "       2.10587663, 2.15405661, 1.84534392, 2.69419479, 1.88295886,\n",
       "       0.84132716, 1.04860453, 0.82078587, 1.41280128, 1.25443479,\n",
       "       0.81104003, 1.3324219 , 1.55715534, 1.35653535, 2.89136925,\n",
       "       0.3857723 , 1.28019313, 2.00052783, 1.52020759, 1.37560988,\n",
       "       0.72178762, 2.31822727, 0.69862579, 1.81043468, 1.55195614,\n",
       "       2.50581321, 0.98416899, 1.62707441, 1.03583927, 1.72418886,\n",
       "       1.18129174, 1.75040728, 1.54790518, 0.94467783, 0.94415299,\n",
       "       1.35474474, 2.64986296, 1.85973912, 1.15809623, 2.23177644,\n",
       "       1.74622277, 2.04557562, 1.29454013, 1.97359836, 1.92495924,\n",
       "       1.52941366, 1.04524223, 1.71744764, 1.83580286, 0.37469918,\n",
       "       1.77240016, 2.27770765, 2.08115258, 0.97351804, 1.39001158,\n",
       "       0.62247246, 1.85070429, 1.29283925, 2.57157648, 1.83495028,\n",
       "       0.96276317, 1.69788442, 0.8398935 , 1.00972656, 1.95541601,\n",
       "       0.73561955, 2.18390888, 1.32117628, 1.22800215, 1.72800286,\n",
       "       0.54441876, 1.18345767, 1.14541435, 1.16544663, 2.73238717,\n",
       "       2.3680676 , 1.5388165 , 2.56680174, 0.85827606, 0.98892675,\n",
       "       0.93963786, 2.50933667, 1.90966905, 1.51719876, 0.95075531,\n",
       "       1.35367111, 1.43232978, 1.3733415 , 2.16332012, 2.39291044,\n",
       "       0.92206493, 1.75919623, 2.28509483, 0.66823399, 0.851041  ,\n",
       "       0.91309854, 1.26283669, 1.45072676, 1.04241304, 1.34473474,\n",
       "       2.16427456, 2.27419341, 2.05816227, 1.00317008, 1.82316   ,\n",
       "       1.29233759, 0.70028276, 1.05447611, 1.92558012, 1.88625325,\n",
       "       0.40948384, 1.39873012, 1.53248663, 1.43464512, 3.06326966,\n",
       "       0.95814602, 1.59443674, 2.28049696, 0.80298557, 1.44345367,\n",
       "       2.16648302, 1.27478479, 1.61392173, 1.15297605, 1.68220937,\n",
       "       1.42508891, 1.03568161, 1.13349411, 1.20466945, 2.03561789,\n",
       "       1.6473277 , 1.80374471, 1.24883107, 0.36264591, 1.66624694,\n",
       "       1.73402943, 1.03165847, 1.13711181, 0.22085548, 1.14003761,\n",
       "       1.43663771, 1.19259012, 1.0603066 , 1.29431245, 1.37792233,\n",
       "       1.78250597, 1.52640395, 0.81626088, 1.29182164, 0.59423102,\n",
       "       1.73331183, 2.13771796, 1.53610424, 1.46722372, 2.63893992,\n",
       "       2.29812975, 1.87499686, 1.31829374, 0.66550304, 2.17967621,\n",
       "       1.89187983, 3.09732043, 2.04599404, 0.94629264, 1.50443958,\n",
       "       1.52239547, 1.03363   , 2.15766749, 1.84215578, 1.47867985,\n",
       "       1.73674296, 1.84487398, 3.85590689, 1.14064082, 0.88726821,\n",
       "       0.57235085, 0.92249616, 0.53216452, 1.89641562, 2.0064082 ,\n",
       "       2.44430827, 1.83001369, 2.76198487, 2.52601864, 1.98291403,\n",
       "       2.96637592, 2.12282807, 1.58985659, 2.30761641, 1.5578065 ,\n",
       "       1.70023129, 1.42427578, 1.74828685, 1.98679318, 0.69189406,\n",
       "       1.96100054, 2.03639866, 1.27692086, 1.46384454, 1.43777805,\n",
       "       2.16642297, 2.14878807, 1.75111022, 3.40384867, 0.76913703,\n",
       "       1.0679652 , 1.89003611, 0.70024988, 2.61729095, 1.35324404,\n",
       "       2.70830393, 2.03481687, 2.38132477, 1.48415303, 2.37515128,\n",
       "       2.62407929, 1.35962093, 1.75085495, 1.75729168, 1.16196588,\n",
       "       1.70085458, 1.64483414, 2.22269906, 1.69082932, 2.32701003,\n",
       "       2.99910209, 1.37644259, 1.70251247, 1.25691594, 1.11343361,\n",
       "       1.46799007, 2.8090372 , 2.06450141, 2.10486479, 1.98583333,\n",
       "       1.15351609, 1.08793737, 1.17357646, 0.35036915, 2.12767788,\n",
       "       2.48681151, 2.56330411, 1.35868273, 1.93432792, 1.91197569,\n",
       "       1.35385495, 1.44862688, 1.38635853, 2.36379124, 0.63867991,\n",
       "       0.25064053, 2.18313301, 1.8828267 , 1.72061255, 3.3523353 ,\n",
       "       1.8962252 , 1.60291895, 2.36389216, 1.12510796, 1.84128877,\n",
       "       1.56109775, 2.25202826, 0.44994342, 2.31923296, 0.44804724,\n",
       "       2.68817071, 1.39850579, 1.33383879, 1.64020251, 1.52379676,\n",
       "       1.5343834 , 2.95591663, 2.14402557, 0.8092388 , 1.11267967,\n",
       "       1.4599775 , 2.3567133 , 1.02824624, 1.24720396, 1.62337445,\n",
       "       0.6789891 , 0.71967958, 1.26433284, 2.55663421, 0.77178372,\n",
       "       0.68879391, 2.11815259, 2.37700484, 1.4039009 , 1.72602523,\n",
       "       0.93081994, 1.89500195, 0.54695095, 1.69052111, 1.35941021,\n",
       "       2.17969192, 1.8141125 , 2.18671922, 0.81553516, 1.25695089,\n",
       "       1.84301622, 1.36805662, 1.00805979, 2.49530028, 2.0972408 ,\n",
       "       1.64942956, 1.63835147, 2.05942011, 0.92242841, 3.55838725,\n",
       "       1.19530424, 2.21298016, 2.11646288, 0.75323154, 1.12484148,\n",
       "       1.55358156, 1.23673614, 2.26052602, 1.57434977, 1.26084333,\n",
       "       1.42963223, 1.84790435, 2.19391885, 1.82960457, 2.17369921,\n",
       "       1.73768741, 1.74482527, 1.04658118, 2.1509767 , 0.46608251,\n",
       "       1.31127431, 0.8418744 , 1.91630567, 1.7201308 , 1.51623823,\n",
       "       2.70934589, 1.3875335 , 1.36805501, 1.07715256, 2.24405895,\n",
       "       1.9079463 , 2.14976196, 2.29266619, 2.38090398, 3.21214083,\n",
       "       2.93266032, 2.03677021, 1.04693689, 1.95680833, 1.67965667,\n",
       "       0.3484865 , 2.17646383, 1.63327528, 1.63559445, 1.00916144,\n",
       "       2.22862882, 0.91582905, 1.45285842, 1.1314482 , 1.14700681,\n",
       "       2.19162672, 1.43610825, 1.51746172, 2.63017009, 2.58559588,\n",
       "       1.43300614, 1.93973937, 2.1284105 , 1.154348  , 0.56880882,\n",
       "       2.40476211, 1.32643798, 1.58367181, 1.12928387, 2.39227583,\n",
       "       1.78513966, 1.47095125, 1.56727832, 2.66652679, 1.52794102,\n",
       "       2.15200234, 0.56829911, 1.79240639, 1.53516042, 0.94974066,\n",
       "       3.41995947, 0.83209067, 1.26314   , 1.30285134, 2.58573385,\n",
       "       1.30676128, 1.62462158, 1.36328263, 1.75106021, 1.86426399,\n",
       "       1.86418207, 1.4142479 , 2.23725172, 1.29203211, 1.25086783,\n",
       "       1.6155013 , 1.80995294, 1.3991264 , 1.54106011, 1.74668358,\n",
       "       1.38891317, 2.11941229, 2.4332503 , 0.80999199, 1.48539451,\n",
       "       1.63304071, 1.56590097, 0.50053648, 1.85891702, 1.53921727,\n",
       "       2.74406016, 0.5390992 , 1.71284851, 1.23799987, 1.42360624,\n",
       "       1.21810222, 2.76350528, 1.6566505 , 3.44026338, 0.77009758,\n",
       "       0.87373005, 1.15578523, 1.62246756, 0.70907888, 0.72273468,\n",
       "       1.66658888, 1.01411057, 2.58669198, 1.90025663, 1.96596711,\n",
       "       2.77877409, 0.52258806, 1.05763357, 0.78586244, 1.83327068,\n",
       "       2.31740253, 1.68807763, 2.80870995, 2.12272729, 1.52903181])"
      ]
     },
     "execution_count": 26,
     "metadata": {},
     "output_type": "execute_result"
    }
   ],
   "source": [
    "sp.stats.chi.rvs(df=3, scale=a, size=1000)"
   ]
  },
  {
   "cell_type": "code",
   "execution_count": null,
   "metadata": {
    "id": "gTHZPjmkeMWQ"
   },
   "outputs": [],
   "source": []
  }
 ],
 "metadata": {
  "colab": {
   "include_colab_link": true,
   "name": "MBoltzmannDistribution.ipynb",
   "provenance": []
  },
  "kernelspec": {
   "display_name": "Python 3 (ipykernel)",
   "language": "python",
   "name": "python3"
  },
  "language_info": {
   "codemirror_mode": {
    "name": "ipython",
    "version": 3
   },
   "file_extension": ".py",
   "mimetype": "text/x-python",
   "name": "python",
   "nbconvert_exporter": "python",
   "pygments_lexer": "ipython3",
   "version": "3.11.3"
  },
  "latex_envs": {
   "LaTeX_envs_menu_present": true,
   "autoclose": false,
   "autocomplete": true,
   "bibliofile": "biblio.bib",
   "cite_by": "apalike",
   "current_citInitial": 1,
   "eqLabelWithNumbers": true,
   "eqNumInitial": 1,
   "hotkeys": {
    "equation": "Ctrl-E",
    "itemize": "Ctrl-I"
   },
   "labels_anchors": false,
   "latex_user_defs": false,
   "report_style_numbering": false,
   "user_envs_cfg": false
  },
  "nbTranslate": {
   "displayLangs": [
    "*"
   ],
   "hotkey": "alt-t",
   "langInMainMenu": true,
   "sourceLang": "en",
   "targetLang": "fr",
   "useGoogleTranslate": true
  },
  "toc": {
   "base_numbering": 1,
   "nav_menu": {},
   "number_sections": true,
   "sideBar": true,
   "skip_h1_title": false,
   "title_cell": "Table of Contents",
   "title_sidebar": "Contents",
   "toc_cell": false,
   "toc_position": {},
   "toc_section_display": true,
   "toc_window_display": false
  }
 },
 "nbformat": 4,
 "nbformat_minor": 4
}
